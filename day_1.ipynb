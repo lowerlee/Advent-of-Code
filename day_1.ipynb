{
 "cells": [
  {
   "cell_type": "code",
   "execution_count": 1,
   "metadata": {},
   "outputs": [],
   "source": [
    "!python -m venv venv"
   ]
  },
  {
   "cell_type": "code",
   "execution_count": 65,
   "metadata": {},
   "outputs": [
    {
     "name": "stdout",
     "output_type": "stream",
     "text": [
      "55834\n",
      "1000\n",
      "3eighteightllkbxkbs9zgznxtj8lfflcst\n",
      "38\n",
      "one5seven\n",
      "55\n"
     ]
    }
   ],
   "source": [
    "import re\n",
    "\n",
    "doc = open(\"doc.txt\", \"r\").read()\n",
    "\n",
    "doc_ls = doc.split(\"\\n\")\n",
    "\n",
    "results = []\n",
    "\n",
    "nums = (\"one\", \"two\", \"three\", \"four\", \"five\", \"six\", \"seven\", \"eight\", \"nine\")\n",
    "\n",
    "regex_ls = [r\"\\b\"]\n",
    "\n",
    "for item in doc_ls:\n",
    "    y = re.findall(r\"[0-9]\", item)\n",
    "\n",
    "    if len(y) > 1:\n",
    "        x = int(y[0] + y[-1])\n",
    "    elif len(y) == 1:\n",
    "        x = int(y[0] + y[0])\n",
    "    else:\n",
    "        continue\n",
    "\n",
    "    results.append(x)\n",
    "\n",
    "final = sum(results)\n",
    "\n",
    "print(final)\n",
    "print(len(results))\n",
    "print(doc_ls[-1])\n",
    "print(results[-1])\n",
    "print(doc_ls[994])\n",
    "print(results[994])\n"
   ]
  },
  {
   "cell_type": "code",
   "execution_count": 81,
   "metadata": {},
   "outputs": [
    {
     "ename": "IndexError",
     "evalue": "string index out of range",
     "output_type": "error",
     "traceback": [
      "\u001b[1;31m---------------------------------------------------------------------------\u001b[0m",
      "\u001b[1;31mIndexError\u001b[0m                                Traceback (most recent call last)",
      "\u001b[1;32mc:\\Users\\kevin.lee\\Advent-of-Code\\day_1.ipynb Cell 3\u001b[0m line \u001b[0;36m1\n\u001b[0;32m     <a href='vscode-notebook-cell:/c%3A/Users/kevin.lee/Advent-of-Code/day_1.ipynb#X14sZmlsZQ%3D%3D?line=9'>10</a>\u001b[0m nums_dc \u001b[39m=\u001b[39m {\u001b[39m\"\u001b[39m\u001b[39mone\u001b[39m\u001b[39m\"\u001b[39m: \u001b[39m1\u001b[39m, \u001b[39m\"\u001b[39m\u001b[39mtwo\u001b[39m\u001b[39m\"\u001b[39m: \u001b[39m2\u001b[39m, \u001b[39m\"\u001b[39m\u001b[39mthree\u001b[39m\u001b[39m\"\u001b[39m: \u001b[39m3\u001b[39m, \u001b[39m\"\u001b[39m\u001b[39mfour\u001b[39m\u001b[39m\"\u001b[39m: \u001b[39m4\u001b[39m, \u001b[39m\"\u001b[39m\u001b[39mfive\u001b[39m\u001b[39m\"\u001b[39m: \u001b[39m5\u001b[39m, \u001b[39m\"\u001b[39m\u001b[39msix\u001b[39m\u001b[39m\"\u001b[39m: \u001b[39m6\u001b[39m, \u001b[39m\"\u001b[39m\u001b[39mseven\u001b[39m\u001b[39m\"\u001b[39m: \u001b[39m7\u001b[39m, \u001b[39m\"\u001b[39m\u001b[39meight\u001b[39m\u001b[39m\"\u001b[39m: \u001b[39m8\u001b[39m, \u001b[39m\"\u001b[39m\u001b[39mnine\u001b[39m\u001b[39m\"\u001b[39m: \u001b[39m9\u001b[39m, \u001b[39m\"\u001b[39m\u001b[39mzero\u001b[39m\u001b[39m\"\u001b[39m: \u001b[39m0\u001b[39m}\n\u001b[0;32m     <a href='vscode-notebook-cell:/c%3A/Users/kevin.lee/Advent-of-Code/day_1.ipynb#X14sZmlsZQ%3D%3D?line=11'>12</a>\u001b[0m \u001b[39m# Note: We're no longer using \\b for word boundaries\u001b[39;00m\n\u001b[1;32m---> <a href='vscode-notebook-cell:/c%3A/Users/kevin.lee/Advent-of-Code/day_1.ipynb#X14sZmlsZQ%3D%3D?line=12'>13</a>\u001b[0m pattern \u001b[39m=\u001b[39m \u001b[39m'\u001b[39;49m\u001b[39m(\u001b[39;49m\u001b[39m'\u001b[39;49m [\u001b[39m0\u001b[39;49m\u001b[39m-\u001b[39;49m\u001b[39m9\u001b[39;49m] \u001b[39m+\u001b[39m \u001b[39m'\u001b[39m\u001b[39m|\u001b[39m\u001b[39m'\u001b[39m \u001b[39m+\u001b[39m \u001b[39m'\u001b[39m\u001b[39m|\u001b[39m\u001b[39m'\u001b[39m\u001b[39m.\u001b[39mjoin(nums) \u001b[39m+\u001b[39m \u001b[39m'\u001b[39m\u001b[39m)\u001b[39m\u001b[39m'\u001b[39m\n\u001b[0;32m     <a href='vscode-notebook-cell:/c%3A/Users/kevin.lee/Advent-of-Code/day_1.ipynb#X14sZmlsZQ%3D%3D?line=14'>15</a>\u001b[0m \u001b[39mfor\u001b[39;00m item \u001b[39min\u001b[39;00m doc_ls:\n\u001b[0;32m     <a href='vscode-notebook-cell:/c%3A/Users/kevin.lee/Advent-of-Code/day_1.ipynb#X14sZmlsZQ%3D%3D?line=15'>16</a>\u001b[0m     y \u001b[39m=\u001b[39m re\u001b[39m.\u001b[39mfindall(pattern, item)\n",
      "\u001b[1;31mIndexError\u001b[0m: string index out of range"
     ]
    }
   ],
   "source": [
    "import re\n",
    "\n",
    "doc = open(\"doc.txt\", \"r\").read()\n",
    "\n",
    "doc_ls = doc.split(\"\\n\")\n",
    "\n",
    "results = []\n",
    "\n",
    "nums = [\"one\", \"two\", \"three\", \"four\", \"five\", \"six\", \"seven\", \"eight\", \"nine\", \"zero\"]\n",
    "\n",
    "# Note: We're no longer using \\b for word boundaries\n",
    "pattern = '(' [0-9] + '|' + '|'.join(nums) + ')'\n",
    "\n",
    "for item in doc_ls:\n",
    "    y = re.findall(pattern, item)\n",
    "\n",
    "    if len(y) > 1:\n",
    "        x = int(y[0] + y[-1])\n",
    "    elif len(y) == 1:\n",
    "        x = int(y[0] + y[0])\n",
    "    else:\n",
    "        continue\n",
    "\n",
    "    results.append(x)\n",
    "\n",
    "final = sum(results)\n",
    "\n",
    "print(\"\\b\" + \"one\" + \"\\b\") \n",
    "print(regex)\n",
    "print(final)\n",
    "print(len(results))\n",
    "print(doc_ls[-1])\n",
    "print(results[-1])\n",
    "print(doc_ls[994])\n",
    "print(results[994])\n"
   ]
  },
  {
   "cell_type": "code",
   "execution_count": 82,
   "metadata": {},
   "outputs": [
    {
     "name": "stdout",
     "output_type": "stream",
     "text": [
      "['four', 'eight']\n"
     ]
    }
   ],
   "source": [
    "import re\n",
    "\n",
    "# The string to search\n",
    "text = \"kbtjtdcljbjcghxcbjlv3foureight\"\n",
    "\n",
    "# List of words to find\n",
    "words_to_find = [\"one\", \"two\", \"three\", \"four\", \"five\", \"six\", \"seven\", \"eight\", \"nine\"]\n",
    "\n",
    "# Creating a regex pattern to match any of the words\n",
    "# Note: We're no longer using \\b for word boundaries\n",
    "pattern = '(' + '|'.join(words_to_find) + ')'\n",
    "\n",
    "# Finding all occurrences of the words in the text\n",
    "found_words = re.findall(pattern, text)\n",
    "\n",
    "nums_dc = {\"one\": 1, \"two\": 2, \"three\": 3, \"four\": 4, \"five\": 5, \"six\": 6, \"seven\": 7, \"eight\": 8, \"nine\": 9, \"zero\": 0}\n",
    "\n",
    "# Note: We're no longer using \\b for word boundaries\n",
    "pattern = '(' [0-9] + '|' + '|'.join(nums) + ')'\n",
    "\n",
    "for item in doc_ls:\n",
    "    y = re.findall(pattern, item)\n",
    "\n",
    "print(found_words)"
   ]
  }
 ],
 "metadata": {
  "kernelspec": {
   "display_name": "Python 3",
   "language": "python",
   "name": "python3"
  },
  "language_info": {
   "codemirror_mode": {
    "name": "ipython",
    "version": 3
   },
   "file_extension": ".py",
   "mimetype": "text/x-python",
   "name": "python",
   "nbconvert_exporter": "python",
   "pygments_lexer": "ipython3",
   "version": "3.11.4"
  }
 },
 "nbformat": 4,
 "nbformat_minor": 2
}
