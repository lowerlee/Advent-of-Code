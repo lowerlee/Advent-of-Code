{
 "cells": [
  {
   "cell_type": "code",
   "execution_count": null,
   "metadata": {},
   "outputs": [],
   "source": [
    "# !python -m venv venv"
   ]
  },
  {
   "cell_type": "code",
   "execution_count": null,
   "metadata": {},
   "outputs": [],
   "source": [
    "# !pip install advent-of-code-data\n",
    "!pip install advent-of-code-data[nb]\n",
    "# !pip install python-dotenv\n",
    "# !pip install matplotlib"
   ]
  },
  {
   "cell_type": "code",
   "execution_count": null,
   "metadata": {},
   "outputs": [],
   "source": [
    "import os\n",
    "from dotenv import load_dotenv\n",
    "\n",
    "load_dotenv()\n",
    "MY_ENV_VAR = os.getenv('AOC_SESSION')"
   ]
  },
  {
   "cell_type": "markdown",
   "metadata": {},
   "source": [
    "### Day 1"
   ]
  },
  {
   "cell_type": "markdown",
   "metadata": {},
   "source": [
    "#### Part 1"
   ]
  },
  {
   "cell_type": "code",
   "execution_count": null,
   "metadata": {},
   "outputs": [],
   "source": [
    "from aocd import get_data\n",
    "import re\n",
    "\n",
    "day1 = get_data(day = 1, year = 2023).splitlines()\n",
    "results = 0\n",
    "\n",
    "for item in day1:\n",
    "    y = re.findall(r\"\\d\", item)\n",
    "\n",
    "    if len(y) > 1:\n",
    "        results += int(y[0] + y[-1])\n",
    "    else:\n",
    "        results += int(y[0] + y[0])\n",
    "\n",
    "print(results)"
   ]
  },
  {
   "cell_type": "code",
   "execution_count": null,
   "metadata": {},
   "outputs": [],
   "source": [
    "from aocd import get_data\n",
    "import re\n",
    "\n",
    "day1 = get_data(day = 1, year = 2023).splitlines()\n",
    "total = 0\n",
    "\n",
    "for line in day1:\n",
    "    a, *_, b = re.findall(r\"\\d\", 2 * line)\n",
    "    total += int(a + b)\n",
    "\n",
    "total"
   ]
  },
  {
   "cell_type": "markdown",
   "metadata": {},
   "source": [
    "#### Part 2"
   ]
  },
  {
   "cell_type": "code",
   "execution_count": null,
   "metadata": {},
   "outputs": [],
   "source": [
    "from aocd import get_data\n",
    "import re\n",
    "\n",
    "day1 = get_data(day = 1, year = 2023).splitlines()\n",
    "\n",
    "results = []\n",
    "\n",
    "nums = [\"one\", \"two\", \"three\", \"four\", \"five\", \"six\", \"seven\", \"eight\", \"nine\"]\n",
    "rnums = [num[::-1] for num in nums]\n",
    "\n",
    "nums_dc = {word: i for i, word in enumerate(nums, start = 1)}\n",
    "rnums_dc = {word[::-1]: i for i, word in enumerate(nums, start = 1)}\n",
    "\n",
    "pattern = r'([0-9])|' + '(' + '|'.join(nums) + ')'\n",
    "rpattern = r'([0-9])|' + '(' + '|'.join(rnums) + ')'\n",
    "\n",
    "for item in day1:\n",
    "    ls = []\n",
    "\n",
    "    y_ls = re.findall(pattern, item)\n",
    "    y = tuple(filter(None, y_ls[0]))[0]\n",
    "\n",
    "    ry_ls = re.findall(rpattern, item[::-1])\n",
    "    ry = tuple(filter(None, ry_ls[0]))[0]\n",
    "    \n",
    "    if len(y_ls) and len(ry_ls) > 1:\n",
    "        x = int([y if y.isdigit() else str(nums_dc[y])][0] + [ry if ry.isdigit() else str(rnums_dc[ry])][0])\n",
    "    else:\n",
    "        x = int([y if y.isdigit() else str(nums_dc[y])][0] + [y if y.isdigit() else str(nums_dc[y])][0])\n",
    "\n",
    "    results.append(x)\n",
    "\n",
    "final = sum(results)\n",
    "\n",
    "print(final)"
   ]
  },
  {
   "cell_type": "code",
   "execution_count": null,
   "metadata": {},
   "outputs": [],
   "source": [
    "# incorrect\n",
    "from aocd import get_data\n",
    "from unicodedata import name\n",
    "import re\n",
    "\n",
    "day1 = get_data(day = 1, year = 2023).splitlines()\n",
    "\n",
    "digits = {k: v for v in \"123456789\" for k in [v, name(v).removeprefix(\"DIGIT \").lower()]}\n",
    "\n",
    "total = 0\n",
    "for line in day1[:3]:\n",
    "    # a, *_, b = re.findall(rf\"(?:{'|'.join(digits)})\", 2 * line)\n",
    "    what = re.findall(rf\"(?:{'|'.join(digits)})\", 2 * line)\n",
    "    print(what)\n",
    "    a, *_, b = what\n",
    "    print(digits[a] + digits[b])\n",
    "    total += int(digits[a] + digits[b])\n",
    "\n",
    "total"
   ]
  },
  {
   "cell_type": "markdown",
   "metadata": {},
   "source": [
    "### Day 2"
   ]
  },
  {
   "cell_type": "markdown",
   "metadata": {},
   "source": [
    "#### Part 1"
   ]
  },
  {
   "cell_type": "code",
   "execution_count": null,
   "metadata": {},
   "outputs": [],
   "source": [
    "from aocd import get_data, submit\n",
    "\n",
    "def sortDict(dict):\n",
    "    a = list(dict.keys())\n",
    "    a.sort()\n",
    "    x = {i: dict[i] for i in a}\n",
    "    return(x)\n",
    "\n",
    "day2 = get_data(day = 2, year = 2023).splitlines()\n",
    "\n",
    "pgame = sortDict({\"red\": 12, \"green\": 13, \"blue\": 14})\n",
    "\n",
    "ls = []\n",
    "gsum = 0\n",
    "\n",
    "for i, games in enumerate(day2):\n",
    "    x = re.split(\"[:;]\", games)\n",
    "    y = list(map(lambda y: re.split(\"[,]\", y), x[1:]))\n",
    "    y = [re.findall(r\"\\d+|\\w+\", i) for ls in y for i in ls]\n",
    "    dict = [{sublist[1]: sublist[0]} for sublist in y]\n",
    "    highest_values = {}\n",
    "    for d in dict:\n",
    "        for color, value in d.items():\n",
    "            if color not in highest_values or int(value) > int(highest_values[color]):\n",
    "                highest_values[color] = int(value)\n",
    "    res_dict = sortDict({color: value for color, value in highest_values.items()})\n",
    "    ares = list((res_dict.get(k) <= v for k, v in pgame.items()))\n",
    "    bres = all(ares)\n",
    "    if bres:\n",
    "        ls.append(i+1)\n",
    "        gsum += i+1\n",
    "\n",
    "submit(gsum, part = 1, day = 2, year = 2023)"
   ]
  },
  {
   "cell_type": "markdown",
   "metadata": {},
   "source": [
    "#### Part 2"
   ]
  },
  {
   "cell_type": "code",
   "execution_count": null,
   "metadata": {},
   "outputs": [],
   "source": [
    "from aocd import get_data, submit\n",
    "import math\n",
    "\n",
    "def sortDict(dict):\n",
    "    a = list(dict.keys())\n",
    "    a.sort()\n",
    "    x = {i: dict[i] for i in a}\n",
    "    return(x)\n",
    "\n",
    "day2 = get_data(day = 2, year = 2023).splitlines()\n",
    "gpower = 0\n",
    "\n",
    "for i, games in enumerate(day2):\n",
    "    x = re.split(\"[:;]\", games)\n",
    "    y = list(map(lambda y: re.split(\"[,]\", y), x[1:]))\n",
    "    y = [re.findall(r\"\\d+|\\w+\", i) for ls in y for i in ls]\n",
    "    dc = [{sublist[1]: sublist[0]} for sublist in y]\n",
    "    highest_values = {}\n",
    "    for d in dc:\n",
    "        for color, value in d.items():\n",
    "            if color not in highest_values or int(value) > int(highest_values[color]):\n",
    "                highest_values[color] = int(value)\n",
    "    res_dict = sortDict({color: value for color, value in highest_values.items()})\n",
    "    res = list(res_dict.values())\n",
    "    gpower += math.prod(res)\n",
    "\n",
    "submit(gpower, part = 2, day = 2, year = 2023)"
   ]
  },
  {
   "cell_type": "markdown",
   "metadata": {},
   "source": [
    "### Day 3"
   ]
  },
  {
   "cell_type": "markdown",
   "metadata": {},
   "source": [
    "#### Part 1"
   ]
  },
  {
   "cell_type": "code",
   "execution_count": null,
   "metadata": {},
   "outputs": [],
   "source": [
    "import math as m, re\n",
    "\n",
    "day3 = get_data(day = 3, year = 2023).splitlines()\n",
    "chars = {(r, c): [] for r in range(len(day3)) for c in range(len(day3[0]))\n",
    "                    if day3[r][c] not in '01234566789.'}\n",
    "\n",
    "for r, row in enumerate(day3):\n",
    "    for n in re.finditer(r'\\d+', row):\n",
    "        edge = {(r, c) for r in (r-1, r, r+1)\n",
    "                       for c in range(n.start()-1, n.end()+1)}\n",
    "\n",
    "        for o in edge & chars.keys():\n",
    "            chars[o].append(int(n.group()))\n",
    "\n",
    "print(chars.values())\n",
    "\n",
    "print(sum(sum(p) for p in chars.values()))\n",
    "\n",
    "# part1 = sum(sum(p) for p in chars.values())\n",
    "\n",
    "# submit(part1, day = 3, year = 2023)"
   ]
  },
  {
   "cell_type": "code",
   "execution_count": null,
   "metadata": {},
   "outputs": [],
   "source": [
    "# Didn't work\n",
    "from aocd import get_data, submit\n",
    "import re\n",
    "\n",
    "def check_left_right(line, index, direction):\n",
    "    if direction == \"right\":\n",
    "        return re.findall(r'\\d+', line[index:])[0]\n",
    "    elif direction == \"left\":\n",
    "        reversed_line = line[::-1]\n",
    "        return re.findall(r'\\d+', reversed_line[len(reversed_line) - index:])[0][::-1]\n",
    "\n",
    "def check_up_down(line, i):\n",
    "    nums = []\n",
    "    if line[i] not in digits:\n",
    "        if line[i + 1] in digits:\n",
    "            nums.append(check_left_right(line, i, \"right\"))\n",
    "        elif line[i - 1] in digits:\n",
    "            nums.append(check_left_right(line, i, \"left\"))\n",
    "    elif line[i] in digits:\n",
    "        if line[i - 1] in digits and line[i + 1] in digits:\n",
    "            revline = line[::-1]\n",
    "            midstart = re.findall(r'\\d+', revline[len(revline) - i - 1:])[0][::-1]\n",
    "            midend = re.findall(r'\\d+', line[i + 1:])[0]\n",
    "            nums.append(str(midstart) + str(midend)) \n",
    "        if line[i - 1] not in digits and line[i + 1] in digits:\n",
    "            nums.append(re.findall(r'\\d+', line[i - 1:])[0])\n",
    "        if line[i - 1] in digits and line[i + 1] not in digits:\n",
    "            revline = line[::-1]\n",
    "            nums.append(re.findall(r'\\d+', revline[len(revline) - i - 1:])[0][::-1])\n",
    "    return nums\n",
    "        \n",
    "def get_adjacent_numbers(data, idx, i):\n",
    "    nums = []\n",
    "    if i + 1 < len(data[idx]) and data[idx][i + 1] in digits:\n",
    "        nums.append(check_left_right(data[idx], i, \"right\"))\n",
    "    if i > 0 and data[idx][i - 1] in digits:\n",
    "        nums.append(check_left_right(data[idx], i, \"left\"))\n",
    "    if idx > 0:\n",
    "        above_line = data[idx - 1]\n",
    "        nums += check_up_down(above_line, i)\n",
    "    if idx < len(data):\n",
    "        below_line = data[idx + 1]\n",
    "        nums += check_up_down(below_line, i)\n",
    "\n",
    "    return nums\n",
    "\n",
    "day3 = get_data(day=3, year=\"2023\").splitlines()\n",
    "# with open(\"day4.txt\", \"r\") as f: day3 = f.read().splitlines()\n",
    "\n",
    "digits = set(\"1234567890\")\n",
    "symbols = set(\"\".join(day3)) - digits - {\".\"}\n",
    "\n",
    "psum = 0\n",
    "for idx, line in enumerate(day3):\n",
    "    print(line)\n",
    "    for i, x in enumerate(line):\n",
    "        if x in symbols:\n",
    "            nums = get_adjacent_numbers(day3, idx, i)\n",
    "            psum += sum(int(num) for num in nums if num.isdigit())\n",
    "            print(\"Numbers around symbol '{}': {}\".format(x, nums))\n",
    "\n",
    "print(psum)\n",
    "\n",
    "# submit(psum, day=3, part=1, year=2023)"
   ]
  },
  {
   "cell_type": "markdown",
   "metadata": {},
   "source": [
    "#### Part 2"
   ]
  },
  {
   "cell_type": "code",
   "execution_count": null,
   "metadata": {},
   "outputs": [],
   "source": [
    "# print(sum(m.prod(p) for p in chars.values() if len(p)==2))\n",
    "\n",
    "part2 = sum(m.prod(p) for p in chars.values() if len(p)==2)\n",
    "\n",
    "submit(part2, day = 3, year = 2023)"
   ]
  },
  {
   "cell_type": "markdown",
   "metadata": {},
   "source": [
    "### Day 4"
   ]
  },
  {
   "cell_type": "markdown",
   "metadata": {},
   "source": [
    "#### Part 1"
   ]
  },
  {
   "cell_type": "code",
   "execution_count": null,
   "metadata": {},
   "outputs": [],
   "source": [
    "from aocd import get_data\n",
    "import re\n",
    "\n",
    "day4 = get_data(day = 4, year = 2023).splitlines()\n",
    "\n",
    "split = [re.split(r':|\\|', x) for x in day4]\n",
    "nums = [[re.findall(r'\\d+', a[1]), re.findall(r'\\d+', a[2])] for a in split]\n",
    "wins = [[x for x in a[1] if x in a[0]] for a in nums]\n",
    "points = [2**max(0, len(w) - 1) if len(w) > 0 else len(w) for w in wins]\n",
    "total = sum(points)\n",
    "\n",
    "print(total)\n",
    "\n",
    "# submit(total, day = 4, year = 2023)"
   ]
  },
  {
   "cell_type": "markdown",
   "metadata": {},
   "source": [
    "#### Part 2"
   ]
  },
  {
   "cell_type": "code",
   "execution_count": null,
   "metadata": {},
   "outputs": [],
   "source": [
    "import re\n",
    "\n",
    "day4 = get_data(day = 4, year = 2023).splitlines()\n",
    "\n",
    "split = [re.split(r':|\\|', x) for x in day4]\n",
    "nums = [[re.findall(r'\\d+', a[1]), re.findall(r'\\d+', a[2])] for a in split]\n",
    "wins = [[x for x in a[1] if x in a[0]] for a in nums]\n",
    "cards = {day4.index(c) + 1: [list(range(day4.index(c) + 2, day4.index(c) + 2 + len(w))), 1] for c, w in zip(day4, wins)}\n",
    "\n",
    "sum = 0\n",
    "\n",
    "for i in cards:\n",
    "    for n in cards[i][0]:\n",
    "        cards[n][1] += 1 * cards[i][1]\n",
    "    sum += cards[i][1]\n",
    "\n",
    "# submit(sum, day = 4, year = 2023, part = 2)"
   ]
  },
  {
   "cell_type": "markdown",
   "metadata": {},
   "source": [
    "### Day 5"
   ]
  },
  {
   "cell_type": "markdown",
   "metadata": {},
   "source": [
    "#### Part 1"
   ]
  },
  {
   "cell_type": "code",
   "execution_count": null,
   "metadata": {},
   "outputs": [],
   "source": [
    "import re\n",
    "from aocd import get_data, submit\n",
    "\n",
    "day5 = get_data(day = 5, year = 2023)\n",
    "\n",
    "seeds = [eval(x) for x in re.findall(r'\\d+', day5.splitlines()[0])]\n",
    "sections = [x.splitlines() for x in day5.split(\"\\n\\n\")]\n",
    "\n",
    "loc_n = []\n",
    "\n",
    "for seed in seeds:\n",
    "    map_val = [seed]\n",
    "    for sec in sections[1:]:\n",
    "        mapped = False\n",
    "        for i, line in enumerate(sec[1:]):\n",
    "            map = [eval(x) for x in re.findall(r'\\d+', line)]\n",
    "            range1 = range(map[1], map[1] + map[2])\n",
    "            if map_val[-1] in range1:\n",
    "                mapped = True\n",
    "                map_val.append(range(map[0], map[0] + map[2])[range1.index(map_val[-1])])\n",
    "                break\n",
    "        if mapped is False:\n",
    "            map_val.append(map_val[-1])\n",
    "    loc_n.append(map_val[-1])\n",
    "\n",
    "submit(min(loc_n), day = 5, year = 2023, part = 1)"
   ]
  },
  {
   "cell_type": "markdown",
   "metadata": {},
   "source": [
    "#### Part 2"
   ]
  },
  {
   "cell_type": "code",
   "execution_count": null,
   "metadata": {},
   "outputs": [],
   "source": [
    "import re\n",
    "from aocd import get_data\n",
    "\n",
    "day5 = get_data(day = 5, year = 2023)\n",
    "\n",
    "seeds = [eval(x) for x in re.findall(r'\\d+', day5.splitlines()[0])]\n",
    "seed_ranges = [range(a, a + b) for a, b in zip(seeds[::2], seeds[1::2])]\n",
    "sections = [x.splitlines() for x in day5.split(\"\\n\\n\")]\n",
    "\n",
    "loc_n = []\n",
    "\n",
    "for r in seed_ranges:\n",
    "    for seed in r:\n",
    "        map_val = [seed]\n",
    "        for sec in sections[1:]:\n",
    "            mapped = False\n",
    "            for i, line in enumerate(sec[1:]):\n",
    "                map = [eval(x) for x in re.findall(r'\\d+', line)]\n",
    "                range1 = range(map[1], map[1] + map[2])\n",
    "                if map_val[-1] in range1:\n",
    "                    mapped = True\n",
    "                    map_val.append(range(map[0], map[0] + map[2])[range1.index(map_val[-1])])\n",
    "                    break\n",
    "            if mapped is False:\n",
    "                map_val.append(map_val[-1])\n",
    "        loc_n.append(map_val[-1])\n",
    "\n",
    "print(min(loc_n))\n",
    "\n",
    "# submit(min(loc_n), day = 5, year = 2023, part = 1)"
   ]
  }
 ],
 "metadata": {
  "kernelspec": {
   "display_name": "Python 3",
   "language": "python",
   "name": "python3"
  },
  "language_info": {
   "codemirror_mode": {
    "name": "ipython",
    "version": 3
   },
   "file_extension": ".py",
   "mimetype": "text/x-python",
   "name": "python",
   "nbconvert_exporter": "python",
   "pygments_lexer": "ipython3",
   "version": "3.11.4"
  }
 },
 "nbformat": 4,
 "nbformat_minor": 2
}
