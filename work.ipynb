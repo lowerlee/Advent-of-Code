{
 "cells": [
  {
   "cell_type": "code",
   "execution_count": null,
   "metadata": {},
   "outputs": [],
   "source": [
    "# !python -m venv venv"
   ]
  },
  {
   "cell_type": "code",
   "execution_count": null,
   "metadata": {},
   "outputs": [],
   "source": [
    "!pip install advent-of-code-data\n",
    "!pip install advent-of-code-data[nb]\n",
    "!pip install python-dotenv"
   ]
  },
  {
   "cell_type": "code",
   "execution_count": null,
   "metadata": {},
   "outputs": [],
   "source": [
    "import os\n",
    "from dotenv import load_dotenv\n",
    "\n",
    "load_dotenv()\n",
    "MY_ENV_VAR = os.getenv('AOC_SESSION')"
   ]
  },
  {
   "cell_type": "markdown",
   "metadata": {},
   "source": [
    "### Day 1"
   ]
  },
  {
   "cell_type": "markdown",
   "metadata": {},
   "source": [
    "#### Part 1"
   ]
  },
  {
   "cell_type": "code",
   "execution_count": null,
   "metadata": {},
   "outputs": [],
   "source": [
    "from aocd import get_data\n",
    "import re\n",
    "\n",
    "day1 = get_data(day = 1, year = 2023).splitlines()\n",
    "results = 0\n",
    "\n",
    "for item in day1:\n",
    "    y = re.findall(r\"\\d\", item)\n",
    "\n",
    "    if len(y) > 1:\n",
    "        results += int(y[0] + y[-1])\n",
    "    else:\n",
    "        results += int(y[0] + y[0])\n",
    "\n",
    "print(results)"
   ]
  },
  {
   "cell_type": "code",
   "execution_count": null,
   "metadata": {},
   "outputs": [],
   "source": [
    "from aocd import get_data\n",
    "import re\n",
    "\n",
    "day1 = get_data(day = 1, year = 2023).splitlines()\n",
    "total = 0\n",
    "\n",
    "for line in day1:\n",
    "    a, *_, b = re.findall(r\"\\d\", 2 * line)\n",
    "    total += int(a + b)\n",
    "\n",
    "total"
   ]
  },
  {
   "cell_type": "markdown",
   "metadata": {},
   "source": [
    "#### Part 2"
   ]
  },
  {
   "cell_type": "code",
   "execution_count": null,
   "metadata": {},
   "outputs": [],
   "source": [
    "from aocd import get_data\n",
    "import re\n",
    "\n",
    "day1 = get_data(day = 1, year = 2023).splitlines()\n",
    "\n",
    "results = []\n",
    "\n",
    "nums = [\"one\", \"two\", \"three\", \"four\", \"five\", \"six\", \"seven\", \"eight\", \"nine\"]\n",
    "rnums = [num[::-1] for num in nums]\n",
    "\n",
    "nums_dc = {word: i for i, word in enumerate(nums, start = 1)}\n",
    "rnums_dc = {word[::-1]: i for i, word in enumerate(nums, start = 1)}\n",
    "\n",
    "pattern = r'([0-9])|' + '(' + '|'.join(nums) + ')'\n",
    "rpattern = r'([0-9])|' + '(' + '|'.join(rnums) + ')'\n",
    "\n",
    "for item in day1:\n",
    "    ls = []\n",
    "\n",
    "    y_ls = re.findall(pattern, item)\n",
    "    y = tuple(filter(None, y_ls[0]))[0]\n",
    "\n",
    "    ry_ls = re.findall(rpattern, item[::-1])\n",
    "    ry = tuple(filter(None, ry_ls[0]))[0]\n",
    "    \n",
    "    if len(y_ls) and len(ry_ls) > 1:\n",
    "        x = int([y if y.isdigit() else str(nums_dc[y])][0] + [ry if ry.isdigit() else str(rnums_dc[ry])][0])\n",
    "    else:\n",
    "        x = int([y if y.isdigit() else str(nums_dc[y])][0] + [y if y.isdigit() else str(nums_dc[y])][0])\n",
    "\n",
    "    results.append(x)\n",
    "\n",
    "final = sum(results)\n",
    "\n",
    "print(final)"
   ]
  },
  {
   "cell_type": "code",
   "execution_count": null,
   "metadata": {},
   "outputs": [],
   "source": [
    "# incorrect\n",
    "from aocd import get_data\n",
    "from unicodedata import name\n",
    "import re\n",
    "\n",
    "day1 = get_data(day = 1, year = 2023).splitlines()\n",
    "\n",
    "digits = {k: v for v in \"123456789\" for k in [v, name(v).removeprefix(\"DIGIT \").lower()]}\n",
    "\n",
    "total = 0\n",
    "for line in day1[:3]:\n",
    "    # a, *_, b = re.findall(rf\"(?:{'|'.join(digits)})\", 2 * line)\n",
    "    what = re.findall(rf\"(?:{'|'.join(digits)})\", 2 * line)\n",
    "    print(what)\n",
    "    a, *_, b = what\n",
    "    print(digits[a] + digits[b])\n",
    "    total += int(digits[a] + digits[b])\n",
    "\n",
    "total"
   ]
  },
  {
   "cell_type": "markdown",
   "metadata": {},
   "source": [
    "### Day 2"
   ]
  },
  {
   "cell_type": "markdown",
   "metadata": {},
   "source": [
    "#### Part 1"
   ]
  },
  {
   "cell_type": "code",
   "execution_count": null,
   "metadata": {},
   "outputs": [],
   "source": [
    "from aocd import get_data, submit\n",
    "\n",
    "def sortDict(dict):\n",
    "    a = list(dict.keys())\n",
    "    a.sort()\n",
    "    x = {i: dict[i] for i in a}\n",
    "    return(x)\n",
    "\n",
    "day2 = get_data(day = 2, year = 2023).splitlines()\n",
    "\n",
    "pgame = sortDict({\"red\": 12, \"green\": 13, \"blue\": 14})\n",
    "\n",
    "ls = []\n",
    "gsum = 0\n",
    "\n",
    "for i, games in enumerate(day2):\n",
    "    x = re.split(\"[:;]\", games)\n",
    "    y = list(map(lambda y: re.split(\"[,]\", y), x[1:]))\n",
    "    y = [re.findall(r\"\\d+|\\w+\", i) for ls in y for i in ls]\n",
    "    dict = [{sublist[1]: sublist[0]} for sublist in y]\n",
    "    highest_values = {}\n",
    "    for d in dict:\n",
    "        for color, value in d.items():\n",
    "            if color not in highest_values or int(value) > int(highest_values[color]):\n",
    "                highest_values[color] = int(value)\n",
    "    res_dict = sortDict({color: value for color, value in highest_values.items()})\n",
    "    ares = list((res_dict.get(k) <= v for k, v in pgame.items()))\n",
    "    bres = all(ares)\n",
    "    if bres:\n",
    "        ls.append(i+1)\n",
    "        gsum += i+1\n",
    "\n",
    "submit(gsum, part = 1, day = 2, year = 2023)"
   ]
  }
 ],
 "metadata": {
  "kernelspec": {
   "display_name": "Python 3",
   "language": "python",
   "name": "python3"
  },
  "language_info": {
   "codemirror_mode": {
    "name": "ipython",
    "version": 3
   },
   "file_extension": ".py",
   "mimetype": "text/x-python",
   "name": "python",
   "nbconvert_exporter": "python",
   "pygments_lexer": "ipython3",
   "version": "3.11.4"
  }
 },
 "nbformat": 4,
 "nbformat_minor": 2
}
