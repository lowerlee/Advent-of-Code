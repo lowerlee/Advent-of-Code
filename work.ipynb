{
 "cells": [
  {
   "cell_type": "code",
   "execution_count": null,
   "metadata": {},
   "outputs": [],
   "source": [
    "# !python -m venv venv"
   ]
  },
  {
   "cell_type": "code",
   "execution_count": 407,
   "metadata": {},
   "outputs": [
    {
     "name": "stdout",
     "output_type": "stream",
     "text": [
      "Requirement already satisfied: advent-of-code-data[nb] in c:\\users\\kevin.lee\\advent-of-code\\venv\\lib\\site-packages (2.0.1)\n",
      "Requirement already satisfied: beautifulsoup4 in c:\\users\\kevin.lee\\advent-of-code\\venv\\lib\\site-packages (from advent-of-code-data[nb]) (4.12.2)\n",
      "Requirement already satisfied: pebble in c:\\users\\kevin.lee\\advent-of-code\\venv\\lib\\site-packages (from advent-of-code-data[nb]) (5.0.4)\n",
      "Requirement already satisfied: urllib3 in c:\\users\\kevin.lee\\advent-of-code\\venv\\lib\\site-packages (from advent-of-code-data[nb]) (2.1.0)\n",
      "Requirement already satisfied: aocd-example-parser>=2023.2 in c:\\users\\kevin.lee\\advent-of-code\\venv\\lib\\site-packages (from advent-of-code-data[nb]) (2023.2)\n",
      "Requirement already satisfied: tzdata in c:\\users\\kevin.lee\\advent-of-code\\venv\\lib\\site-packages (from advent-of-code-data[nb]) (2023.3)\n",
      "Requirement already satisfied: IPython in c:\\users\\kevin.lee\\advent-of-code\\venv\\lib\\site-packages (from advent-of-code-data[nb]) (8.18.1)\n",
      "Requirement already satisfied: jupyter-server in c:\\users\\kevin.lee\\advent-of-code\\venv\\lib\\site-packages (from advent-of-code-data[nb]) (2.11.1)\n",
      "Requirement already satisfied: soupsieve>1.2 in c:\\users\\kevin.lee\\advent-of-code\\venv\\lib\\site-packages (from beautifulsoup4->advent-of-code-data[nb]) (2.5)\n",
      "Requirement already satisfied: decorator in c:\\users\\kevin.lee\\advent-of-code\\venv\\lib\\site-packages (from IPython->advent-of-code-data[nb]) (5.1.1)\n",
      "Requirement already satisfied: jedi>=0.16 in c:\\users\\kevin.lee\\advent-of-code\\venv\\lib\\site-packages (from IPython->advent-of-code-data[nb]) (0.19.1)\n",
      "Requirement already satisfied: matplotlib-inline in c:\\users\\kevin.lee\\advent-of-code\\venv\\lib\\site-packages (from IPython->advent-of-code-data[nb]) (0.1.6)\n",
      "Requirement already satisfied: prompt-toolkit<3.1.0,>=3.0.41 in c:\\users\\kevin.lee\\advent-of-code\\venv\\lib\\site-packages (from IPython->advent-of-code-data[nb]) (3.0.41)\n",
      "Requirement already satisfied: pygments>=2.4.0 in c:\\users\\kevin.lee\\advent-of-code\\venv\\lib\\site-packages (from IPython->advent-of-code-data[nb]) (2.17.2)\n",
      "Requirement already satisfied: stack-data in c:\\users\\kevin.lee\\advent-of-code\\venv\\lib\\site-packages (from IPython->advent-of-code-data[nb]) (0.6.3)\n",
      "Requirement already satisfied: traitlets>=5 in c:\\users\\kevin.lee\\advent-of-code\\venv\\lib\\site-packages (from IPython->advent-of-code-data[nb]) (5.14.0)\n",
      "Requirement already satisfied: colorama in c:\\users\\kevin.lee\\advent-of-code\\venv\\lib\\site-packages (from IPython->advent-of-code-data[nb]) (0.4.6)\n",
      "Requirement already satisfied: anyio>=3.1.0 in c:\\users\\kevin.lee\\advent-of-code\\venv\\lib\\site-packages (from jupyter-server->advent-of-code-data[nb]) (4.1.0)\n",
      "Requirement already satisfied: argon2-cffi in c:\\users\\kevin.lee\\advent-of-code\\venv\\lib\\site-packages (from jupyter-server->advent-of-code-data[nb]) (23.1.0)\n",
      "Requirement already satisfied: jinja2 in c:\\users\\kevin.lee\\advent-of-code\\venv\\lib\\site-packages (from jupyter-server->advent-of-code-data[nb]) (3.1.2)\n",
      "Requirement already satisfied: jupyter-client>=7.4.4 in c:\\users\\kevin.lee\\advent-of-code\\venv\\lib\\site-packages (from jupyter-server->advent-of-code-data[nb]) (8.6.0)\n",
      "Requirement already satisfied: jupyter-core!=5.0.*,>=4.12 in c:\\users\\kevin.lee\\advent-of-code\\venv\\lib\\site-packages (from jupyter-server->advent-of-code-data[nb]) (5.5.0)\n",
      "Requirement already satisfied: jupyter-events>=0.9.0 in c:\\users\\kevin.lee\\advent-of-code\\venv\\lib\\site-packages (from jupyter-server->advent-of-code-data[nb]) (0.9.0)\n",
      "Requirement already satisfied: jupyter-server-terminals in c:\\users\\kevin.lee\\advent-of-code\\venv\\lib\\site-packages (from jupyter-server->advent-of-code-data[nb]) (0.4.4)\n",
      "Requirement already satisfied: nbconvert>=6.4.4 in c:\\users\\kevin.lee\\advent-of-code\\venv\\lib\\site-packages (from jupyter-server->advent-of-code-data[nb]) (7.11.0)\n",
      "Requirement already satisfied: nbformat>=5.3.0 in c:\\users\\kevin.lee\\advent-of-code\\venv\\lib\\site-packages (from jupyter-server->advent-of-code-data[nb]) (5.9.2)\n",
      "Requirement already satisfied: overrides in c:\\users\\kevin.lee\\advent-of-code\\venv\\lib\\site-packages (from jupyter-server->advent-of-code-data[nb]) (7.4.0)\n",
      "Requirement already satisfied: packaging in c:\\users\\kevin.lee\\advent-of-code\\venv\\lib\\site-packages (from jupyter-server->advent-of-code-data[nb]) (23.2)\n",
      "Requirement already satisfied: prometheus-client in c:\\users\\kevin.lee\\advent-of-code\\venv\\lib\\site-packages (from jupyter-server->advent-of-code-data[nb]) (0.19.0)\n",
      "Requirement already satisfied: pywinpty in c:\\users\\kevin.lee\\advent-of-code\\venv\\lib\\site-packages (from jupyter-server->advent-of-code-data[nb]) (2.0.12)\n",
      "Requirement already satisfied: pyzmq>=24 in c:\\users\\kevin.lee\\advent-of-code\\venv\\lib\\site-packages (from jupyter-server->advent-of-code-data[nb]) (25.1.1)\n",
      "Requirement already satisfied: send2trash>=1.8.2 in c:\\users\\kevin.lee\\advent-of-code\\venv\\lib\\site-packages (from jupyter-server->advent-of-code-data[nb]) (1.8.2)\n",
      "Requirement already satisfied: terminado>=0.8.3 in c:\\users\\kevin.lee\\advent-of-code\\venv\\lib\\site-packages (from jupyter-server->advent-of-code-data[nb]) (0.18.0)\n",
      "Requirement already satisfied: tornado>=6.2.0 in c:\\users\\kevin.lee\\advent-of-code\\venv\\lib\\site-packages (from jupyter-server->advent-of-code-data[nb]) (6.4)\n",
      "Requirement already satisfied: websocket-client in c:\\users\\kevin.lee\\advent-of-code\\venv\\lib\\site-packages (from jupyter-server->advent-of-code-data[nb]) (1.6.4)\n",
      "Requirement already satisfied: idna>=2.8 in c:\\users\\kevin.lee\\advent-of-code\\venv\\lib\\site-packages (from anyio>=3.1.0->jupyter-server->advent-of-code-data[nb]) (3.6)\n",
      "Requirement already satisfied: sniffio>=1.1 in c:\\users\\kevin.lee\\advent-of-code\\venv\\lib\\site-packages (from anyio>=3.1.0->jupyter-server->advent-of-code-data[nb]) (1.3.0)\n",
      "Requirement already satisfied: parso<0.9.0,>=0.8.3 in c:\\users\\kevin.lee\\advent-of-code\\venv\\lib\\site-packages (from jedi>=0.16->IPython->advent-of-code-data[nb]) (0.8.3)\n",
      "Requirement already satisfied: python-dateutil>=2.8.2 in c:\\users\\kevin.lee\\advent-of-code\\venv\\lib\\site-packages (from jupyter-client>=7.4.4->jupyter-server->advent-of-code-data[nb]) (2.8.2)\n",
      "Requirement already satisfied: platformdirs>=2.5 in c:\\users\\kevin.lee\\advent-of-code\\venv\\lib\\site-packages (from jupyter-core!=5.0.*,>=4.12->jupyter-server->advent-of-code-data[nb]) (4.0.0)\n",
      "Requirement already satisfied: pywin32>=300 in c:\\users\\kevin.lee\\advent-of-code\\venv\\lib\\site-packages (from jupyter-core!=5.0.*,>=4.12->jupyter-server->advent-of-code-data[nb]) (306)\n",
      "Requirement already satisfied: jsonschema[format-nongpl]>=4.18.0 in c:\\users\\kevin.lee\\advent-of-code\\venv\\lib\\site-packages (from jupyter-events>=0.9.0->jupyter-server->advent-of-code-data[nb]) (4.20.0)\n",
      "Requirement already satisfied: python-json-logger>=2.0.4 in c:\\users\\kevin.lee\\advent-of-code\\venv\\lib\\site-packages (from jupyter-events>=0.9.0->jupyter-server->advent-of-code-data[nb]) (2.0.7)\n",
      "Requirement already satisfied: pyyaml>=5.3 in c:\\users\\kevin.lee\\advent-of-code\\venv\\lib\\site-packages (from jupyter-events>=0.9.0->jupyter-server->advent-of-code-data[nb]) (6.0.1)\n",
      "Requirement already satisfied: referencing in c:\\users\\kevin.lee\\advent-of-code\\venv\\lib\\site-packages (from jupyter-events>=0.9.0->jupyter-server->advent-of-code-data[nb]) (0.31.1)\n",
      "Requirement already satisfied: rfc3339-validator in c:\\users\\kevin.lee\\advent-of-code\\venv\\lib\\site-packages (from jupyter-events>=0.9.0->jupyter-server->advent-of-code-data[nb]) (0.1.4)\n",
      "Requirement already satisfied: rfc3986-validator>=0.1.1 in c:\\users\\kevin.lee\\advent-of-code\\venv\\lib\\site-packages (from jupyter-events>=0.9.0->jupyter-server->advent-of-code-data[nb]) (0.1.1)\n",
      "Requirement already satisfied: bleach!=5.0.0 in c:\\users\\kevin.lee\\advent-of-code\\venv\\lib\\site-packages (from nbconvert>=6.4.4->jupyter-server->advent-of-code-data[nb]) (6.1.0)\n",
      "Requirement already satisfied: defusedxml in c:\\users\\kevin.lee\\advent-of-code\\venv\\lib\\site-packages (from nbconvert>=6.4.4->jupyter-server->advent-of-code-data[nb]) (0.7.1)\n",
      "Requirement already satisfied: jupyterlab-pygments in c:\\users\\kevin.lee\\advent-of-code\\venv\\lib\\site-packages (from nbconvert>=6.4.4->jupyter-server->advent-of-code-data[nb]) (0.3.0)\n",
      "Requirement already satisfied: markupsafe>=2.0 in c:\\users\\kevin.lee\\advent-of-code\\venv\\lib\\site-packages (from nbconvert>=6.4.4->jupyter-server->advent-of-code-data[nb]) (2.1.3)\n",
      "Requirement already satisfied: mistune<4,>=2.0.3 in c:\\users\\kevin.lee\\advent-of-code\\venv\\lib\\site-packages (from nbconvert>=6.4.4->jupyter-server->advent-of-code-data[nb]) (3.0.2)\n",
      "Requirement already satisfied: nbclient>=0.5.0 in c:\\users\\kevin.lee\\advent-of-code\\venv\\lib\\site-packages (from nbconvert>=6.4.4->jupyter-server->advent-of-code-data[nb]) (0.9.0)\n",
      "Requirement already satisfied: pandocfilters>=1.4.1 in c:\\users\\kevin.lee\\advent-of-code\\venv\\lib\\site-packages (from nbconvert>=6.4.4->jupyter-server->advent-of-code-data[nb]) (1.5.0)\n",
      "Requirement already satisfied: tinycss2 in c:\\users\\kevin.lee\\advent-of-code\\venv\\lib\\site-packages (from nbconvert>=6.4.4->jupyter-server->advent-of-code-data[nb]) (1.2.1)\n",
      "Requirement already satisfied: fastjsonschema in c:\\users\\kevin.lee\\advent-of-code\\venv\\lib\\site-packages (from nbformat>=5.3.0->jupyter-server->advent-of-code-data[nb]) (2.19.0)\n",
      "Requirement already satisfied: wcwidth in c:\\users\\kevin.lee\\advent-of-code\\venv\\lib\\site-packages (from prompt-toolkit<3.1.0,>=3.0.41->IPython->advent-of-code-data[nb]) (0.2.12)\n",
      "Requirement already satisfied: argon2-cffi-bindings in c:\\users\\kevin.lee\\advent-of-code\\venv\\lib\\site-packages (from argon2-cffi->jupyter-server->advent-of-code-data[nb]) (21.2.0)\n",
      "Requirement already satisfied: executing>=1.2.0 in c:\\users\\kevin.lee\\advent-of-code\\venv\\lib\\site-packages (from stack-data->IPython->advent-of-code-data[nb]) (2.0.1)\n",
      "Requirement already satisfied: asttokens>=2.1.0 in c:\\users\\kevin.lee\\advent-of-code\\venv\\lib\\site-packages (from stack-data->IPython->advent-of-code-data[nb]) (2.4.1)\n",
      "Requirement already satisfied: pure-eval in c:\\users\\kevin.lee\\advent-of-code\\venv\\lib\\site-packages (from stack-data->IPython->advent-of-code-data[nb]) (0.2.2)\n",
      "Requirement already satisfied: six>=1.12.0 in c:\\users\\kevin.lee\\advent-of-code\\venv\\lib\\site-packages (from asttokens>=2.1.0->stack-data->IPython->advent-of-code-data[nb]) (1.16.0)\n",
      "Requirement already satisfied: webencodings in c:\\users\\kevin.lee\\advent-of-code\\venv\\lib\\site-packages (from bleach!=5.0.0->nbconvert>=6.4.4->jupyter-server->advent-of-code-data[nb]) (0.5.1)\n",
      "Requirement already satisfied: attrs>=22.2.0 in c:\\users\\kevin.lee\\advent-of-code\\venv\\lib\\site-packages (from jsonschema[format-nongpl]>=4.18.0->jupyter-events>=0.9.0->jupyter-server->advent-of-code-data[nb]) (23.1.0)\n",
      "Requirement already satisfied: jsonschema-specifications>=2023.03.6 in c:\\users\\kevin.lee\\advent-of-code\\venv\\lib\\site-packages (from jsonschema[format-nongpl]>=4.18.0->jupyter-events>=0.9.0->jupyter-server->advent-of-code-data[nb]) (2023.11.2)\n",
      "Requirement already satisfied: rpds-py>=0.7.1 in c:\\users\\kevin.lee\\advent-of-code\\venv\\lib\\site-packages (from jsonschema[format-nongpl]>=4.18.0->jupyter-events>=0.9.0->jupyter-server->advent-of-code-data[nb]) (0.13.2)\n",
      "Requirement already satisfied: fqdn in c:\\users\\kevin.lee\\advent-of-code\\venv\\lib\\site-packages (from jsonschema[format-nongpl]>=4.18.0->jupyter-events>=0.9.0->jupyter-server->advent-of-code-data[nb]) (1.5.1)\n",
      "Requirement already satisfied: isoduration in c:\\users\\kevin.lee\\advent-of-code\\venv\\lib\\site-packages (from jsonschema[format-nongpl]>=4.18.0->jupyter-events>=0.9.0->jupyter-server->advent-of-code-data[nb]) (20.11.0)\n",
      "Requirement already satisfied: jsonpointer>1.13 in c:\\users\\kevin.lee\\advent-of-code\\venv\\lib\\site-packages (from jsonschema[format-nongpl]>=4.18.0->jupyter-events>=0.9.0->jupyter-server->advent-of-code-data[nb]) (2.4)\n",
      "Requirement already satisfied: uri-template in c:\\users\\kevin.lee\\advent-of-code\\venv\\lib\\site-packages (from jsonschema[format-nongpl]>=4.18.0->jupyter-events>=0.9.0->jupyter-server->advent-of-code-data[nb]) (1.3.0)\n",
      "Requirement already satisfied: webcolors>=1.11 in c:\\users\\kevin.lee\\advent-of-code\\venv\\lib\\site-packages (from jsonschema[format-nongpl]>=4.18.0->jupyter-events>=0.9.0->jupyter-server->advent-of-code-data[nb]) (1.13)\n",
      "Requirement already satisfied: cffi>=1.0.1 in c:\\users\\kevin.lee\\advent-of-code\\venv\\lib\\site-packages (from argon2-cffi-bindings->argon2-cffi->jupyter-server->advent-of-code-data[nb]) (1.16.0)\n",
      "Requirement already satisfied: pycparser in c:\\users\\kevin.lee\\advent-of-code\\venv\\lib\\site-packages (from cffi>=1.0.1->argon2-cffi-bindings->argon2-cffi->jupyter-server->advent-of-code-data[nb]) (2.21)\n",
      "Requirement already satisfied: arrow>=0.15.0 in c:\\users\\kevin.lee\\advent-of-code\\venv\\lib\\site-packages (from isoduration->jsonschema[format-nongpl]>=4.18.0->jupyter-events>=0.9.0->jupyter-server->advent-of-code-data[nb]) (1.3.0)\n",
      "Requirement already satisfied: types-python-dateutil>=2.8.10 in c:\\users\\kevin.lee\\advent-of-code\\venv\\lib\\site-packages (from arrow>=0.15.0->isoduration->jsonschema[format-nongpl]>=4.18.0->jupyter-events>=0.9.0->jupyter-server->advent-of-code-data[nb]) (2.8.19.14)\n"
     ]
    },
    {
     "name": "stderr",
     "output_type": "stream",
     "text": [
      "\n",
      "[notice] A new release of pip is available: 23.1.2 -> 23.3.1\n",
      "[notice] To update, run: python.exe -m pip install --upgrade pip\n"
     ]
    }
   ],
   "source": [
    "# !pip install advent-of-code-data\n",
    "!pip install advent-of-code-data[nb]\n",
    "# !pip install python-dotenv\n",
    "# !pip install matplotlib"
   ]
  },
  {
   "cell_type": "code",
   "execution_count": 404,
   "metadata": {},
   "outputs": [],
   "source": [
    "import os\n",
    "from dotenv import load_dotenv\n",
    "\n",
    "load_dotenv()\n",
    "MY_ENV_VAR = os.getenv('AOC_SESSION')"
   ]
  },
  {
   "cell_type": "markdown",
   "metadata": {},
   "source": [
    "### Day 1"
   ]
  },
  {
   "cell_type": "markdown",
   "metadata": {},
   "source": [
    "#### Part 1"
   ]
  },
  {
   "cell_type": "code",
   "execution_count": null,
   "metadata": {},
   "outputs": [],
   "source": [
    "from aocd import get_data\n",
    "import re\n",
    "\n",
    "day1 = get_data(day = 1, year = 2023).splitlines()\n",
    "results = 0\n",
    "\n",
    "for item in day1:\n",
    "    y = re.findall(r\"\\d\", item)\n",
    "\n",
    "    if len(y) > 1:\n",
    "        results += int(y[0] + y[-1])\n",
    "    else:\n",
    "        results += int(y[0] + y[0])\n",
    "\n",
    "print(results)"
   ]
  },
  {
   "cell_type": "code",
   "execution_count": null,
   "metadata": {},
   "outputs": [],
   "source": [
    "from aocd import get_data\n",
    "import re\n",
    "\n",
    "day1 = get_data(day = 1, year = 2023).splitlines()\n",
    "total = 0\n",
    "\n",
    "for line in day1:\n",
    "    a, *_, b = re.findall(r\"\\d\", 2 * line)\n",
    "    total += int(a + b)\n",
    "\n",
    "total"
   ]
  },
  {
   "cell_type": "markdown",
   "metadata": {},
   "source": [
    "#### Part 2"
   ]
  },
  {
   "cell_type": "code",
   "execution_count": null,
   "metadata": {},
   "outputs": [],
   "source": [
    "from aocd import get_data\n",
    "import re\n",
    "\n",
    "day1 = get_data(day = 1, year = 2023).splitlines()\n",
    "\n",
    "results = []\n",
    "\n",
    "nums = [\"one\", \"two\", \"three\", \"four\", \"five\", \"six\", \"seven\", \"eight\", \"nine\"]\n",
    "rnums = [num[::-1] for num in nums]\n",
    "\n",
    "nums_dc = {word: i for i, word in enumerate(nums, start = 1)}\n",
    "rnums_dc = {word[::-1]: i for i, word in enumerate(nums, start = 1)}\n",
    "\n",
    "pattern = r'([0-9])|' + '(' + '|'.join(nums) + ')'\n",
    "rpattern = r'([0-9])|' + '(' + '|'.join(rnums) + ')'\n",
    "\n",
    "for item in day1:\n",
    "    ls = []\n",
    "\n",
    "    y_ls = re.findall(pattern, item)\n",
    "    y = tuple(filter(None, y_ls[0]))[0]\n",
    "\n",
    "    ry_ls = re.findall(rpattern, item[::-1])\n",
    "    ry = tuple(filter(None, ry_ls[0]))[0]\n",
    "    \n",
    "    if len(y_ls) and len(ry_ls) > 1:\n",
    "        x = int([y if y.isdigit() else str(nums_dc[y])][0] + [ry if ry.isdigit() else str(rnums_dc[ry])][0])\n",
    "    else:\n",
    "        x = int([y if y.isdigit() else str(nums_dc[y])][0] + [y if y.isdigit() else str(nums_dc[y])][0])\n",
    "\n",
    "    results.append(x)\n",
    "\n",
    "final = sum(results)\n",
    "\n",
    "print(final)"
   ]
  },
  {
   "cell_type": "code",
   "execution_count": null,
   "metadata": {},
   "outputs": [],
   "source": [
    "# incorrect\n",
    "from aocd import get_data\n",
    "from unicodedata import name\n",
    "import re\n",
    "\n",
    "day1 = get_data(day = 1, year = 2023).splitlines()\n",
    "\n",
    "digits = {k: v for v in \"123456789\" for k in [v, name(v).removeprefix(\"DIGIT \").lower()]}\n",
    "\n",
    "total = 0\n",
    "for line in day1[:3]:\n",
    "    # a, *_, b = re.findall(rf\"(?:{'|'.join(digits)})\", 2 * line)\n",
    "    what = re.findall(rf\"(?:{'|'.join(digits)})\", 2 * line)\n",
    "    print(what)\n",
    "    a, *_, b = what\n",
    "    print(digits[a] + digits[b])\n",
    "    total += int(digits[a] + digits[b])\n",
    "\n",
    "total"
   ]
  },
  {
   "cell_type": "markdown",
   "metadata": {},
   "source": [
    "### Day 2"
   ]
  },
  {
   "cell_type": "markdown",
   "metadata": {},
   "source": [
    "#### Part 1"
   ]
  },
  {
   "cell_type": "code",
   "execution_count": null,
   "metadata": {},
   "outputs": [],
   "source": [
    "from aocd import get_data, submit\n",
    "\n",
    "def sortDict(dict):\n",
    "    a = list(dict.keys())\n",
    "    a.sort()\n",
    "    x = {i: dict[i] for i in a}\n",
    "    return(x)\n",
    "\n",
    "day2 = get_data(day = 2, year = 2023).splitlines()\n",
    "\n",
    "pgame = sortDict({\"red\": 12, \"green\": 13, \"blue\": 14})\n",
    "\n",
    "ls = []\n",
    "gsum = 0\n",
    "\n",
    "for i, games in enumerate(day2):\n",
    "    x = re.split(\"[:;]\", games)\n",
    "    y = list(map(lambda y: re.split(\"[,]\", y), x[1:]))\n",
    "    y = [re.findall(r\"\\d+|\\w+\", i) for ls in y for i in ls]\n",
    "    dict = [{sublist[1]: sublist[0]} for sublist in y]\n",
    "    highest_values = {}\n",
    "    for d in dict:\n",
    "        for color, value in d.items():\n",
    "            if color not in highest_values or int(value) > int(highest_values[color]):\n",
    "                highest_values[color] = int(value)\n",
    "    res_dict = sortDict({color: value for color, value in highest_values.items()})\n",
    "    ares = list((res_dict.get(k) <= v for k, v in pgame.items()))\n",
    "    bres = all(ares)\n",
    "    if bres:\n",
    "        ls.append(i+1)\n",
    "        gsum += i+1\n",
    "\n",
    "submit(gsum, part = 1, day = 2, year = 2023)"
   ]
  },
  {
   "cell_type": "markdown",
   "metadata": {},
   "source": [
    "#### Part 2"
   ]
  },
  {
   "cell_type": "code",
   "execution_count": null,
   "metadata": {},
   "outputs": [],
   "source": [
    "from aocd import get_data, submit\n",
    "import math\n",
    "\n",
    "def sortDict(dict):\n",
    "    a = list(dict.keys())\n",
    "    a.sort()\n",
    "    x = {i: dict[i] for i in a}\n",
    "    return(x)\n",
    "\n",
    "day2 = get_data(day = 2, year = 2023).splitlines()\n",
    "gpower = 0\n",
    "\n",
    "for i, games in enumerate(day2):\n",
    "    x = re.split(\"[:;]\", games)\n",
    "    y = list(map(lambda y: re.split(\"[,]\", y), x[1:]))\n",
    "    y = [re.findall(r\"\\d+|\\w+\", i) for ls in y for i in ls]\n",
    "    dc = [{sublist[1]: sublist[0]} for sublist in y]\n",
    "    highest_values = {}\n",
    "    for d in dc:\n",
    "        for color, value in d.items():\n",
    "            if color not in highest_values or int(value) > int(highest_values[color]):\n",
    "                highest_values[color] = int(value)\n",
    "    res_dict = sortDict({color: value for color, value in highest_values.items()})\n",
    "    res = list(res_dict.values())\n",
    "    gpower += math.prod(res)\n",
    "\n",
    "submit(gpower, part = 2, day = 2, year = 2023)"
   ]
  },
  {
   "cell_type": "markdown",
   "metadata": {},
   "source": [
    "### Day 3"
   ]
  },
  {
   "cell_type": "markdown",
   "metadata": {},
   "source": [
    "#### Part 1"
   ]
  },
  {
   "cell_type": "code",
   "execution_count": 325,
   "metadata": {},
   "outputs": [
    {
     "name": "stdout",
     "output_type": "stream",
     "text": [
      "dict_values([[702], [417], [785, 14], [104], [284, 453], [503, 516], [796], [992], [569], [746], [49], [307], [995, 430], [458, 39], [856], [856], [680], [767], [773], [265], [287], [822, 726], [174, 511], [711, 320], [656], [634, 731], [223, 933], [522], [619], [501], [535], [476, 713], [427], [424, 618], [72], [861], [232], [907], [115], [338, 363], [205, 960], [897], [676, 172], [559], [763], [126], [996, 911], [40], [996, 90], [974], [566, 890], [802, 93], [214, 209], [773], [105], [554], [886], [384], [527, 383], [791], [928, 671], [303], [914], [548], [725], [974], [394], [741, 960], [179], [18, 464], [624, 846], [64, 266], [701, 458], [721], [502, 80], [350], [834], [25, 742], [831, 816], [25], [985], [377, 266], [659], [614], [236, 631], [450], [816], [938, 154], [973, 341], [738, 231], [428, 681], [311, 775], [585], [469], [673], [48, 19], [259], [258, 230], [682], [924], [855], [257, 459], [807, 900], [418], [906, 250], [185, 503], [637], [778, 808], [370], [556], [988], [459], [273], [16], [251], [97], [964], [836], [618], [663], [702, 714], [383], [372], [941], [710, 733], [685, 470], [171, 508], [658, 617], [884], [543], [113], [853], [992], [753], [918], [170, 467], [874, 989], [389], [544], [208], [98], [907], [591], [170], [140], [210, 801], [129, 594], [981], [931, 618], [251], [979, 629], [276, 136], [700], [493, 885], [84], [173], [155], [970], [217, 648], [388], [377, 1], [721, 81], [911, 533], [766], [541], [234, 861], [951], [709, 331], [614, 876], [680], [742, 289], [401], [937, 431], [594], [493, 400], [39], [452], [399, 925], [660], [60], [275, 876], [107], [594, 177], [888, 708], [661], [79, 294], [978], [482], [599, 847], [288, 793], [855], [967], [986], [249], [867, 818], [596], [479, 769], [73], [303], [617, 88], [605, 453], [884], [783, 91], [619], [672, 500], [208, 228], [949, 508], [352], [56, 845], [683, 365], [672], [569, 214], [205, 912], [975, 24], [349], [638], [462], [714], [360], [197], [841, 334], [847], [257], [152, 246], [295], [447, 92], [167, 220], [287, 930], [146], [554, 139], [396, 578], [24], [414, 502], [711], [49], [366], [117, 677], [958, 350], [548, 44], [21, 449], [820, 404], [140], [204, 477], [39], [226, 815], [663], [555, 815], [992], [694, 781], [786, 646], [759], [665], [521, 808], [103], [828, 810], [360], [464, 638], [276, 812], [85], [955, 347], [220], [934], [15], [193, 751], [214], [963, 39], [714, 265], [573, 80], [162], [892], [285], [636], [567, 978], [334], [68], [51], [586], [948, 813], [505], [61], [142], [736], [852], [507], [797, 571], [273, 486], [382, 109], [130, 691], [250, 402], [140, 672], [435, 492], [3], [408], [80], [24], [390], [162, 41], [285, 52], [552, 810], [280], [620, 57], [391], [179], [159], [355, 481], [210, 905], [99, 296], [208], [12, 298], [808, 172], [897], [663], [476, 679], [622], [658], [968], [104, 478], [899], [889, 498], [691], [119, 341], [549], [637, 437], [342, 718], [111, 136], [707], [503, 535], [36, 639], [386, 798], [716], [662, 247], [848], [433], [936, 1], [930], [67], [358], [372], [137, 833], [313, 565], [371], [677], [605], [267], [478], [839], [869], [228, 84], [794, 451], [74, 684], [499], [882], [614], [541], [426, 917], [916, 32], [68, 363], [468, 418], [18], [956, 308], [759], [279], [480], [124], [944], [509, 412], [36, 931], [441, 628], [33], [920, 585], [526, 908], [346], [139, 336], [626], [446], [249], [807], [924, 36], [264], [730], [766, 201], [581], [191], [144], [35, 949], [791], [126], [957], [71, 440], [768], [216, 967], [604], [159, 647], [715], [598], [999, 6], [189], [981], [524], [774], [847], [351, 517], [189, 626], [168], [329], [297], [599], [747], [86], [245], [495], [57, 999], [796], [841, 885], [343, 336], [360, 321], [696], [9, 250], [392], [93, 402], [146], [469, 170], [899, 128], [247, 161], [648], [615], [300], [901], [501, 513], [77, 271], [991, 541], [782, 488], [123, 19], [999, 620], [134, 18], [287, 268], [143], [644, 395], [723], [379, 667], [84], [803], [208, 841], [931, 338], [938, 834], [596], [626, 287], [418, 852], [820, 530], [162, 607], [804], [860], [399, 244], [172], [17], [488], [333], [53], [334], [623, 954], [686], [464], [758, 677], [105], [683, 952], [139], [94], [197, 121], [357, 183], [823], [544, 68], [993], [391], [665], [831, 602], [254], [600, 186], [819], [18, 11], [686], [575, 243], [800], [692], [17, 328], [815, 548], [562, 93], [948], [912], [897], [100], [889], [899], [480], [280, 375], [378], [504], [605, 23], [383], [522], [141], [47, 433], [63], [975], [730], [428], [444, 431], [828, 372], [468, 560], [607, 16], [592, 973], [258], [333], [360, 58], [533], [114, 913], [671], [937], [658, 975], [163, 247], [329, 713], [315, 757], [782], [18], [440], [859], [327], [133], [563, 196], [348], [595], [873, 47], [465], [588], [787], [676], [401], [742], [665, 239], [907, 543], [162, 582], [163], [27], [170, 17], [222, 948], [804], [784], [682], [343, 560], [35], [338, 900], [437, 686], [13], [255], [852], [636, 278], [211], [876], [630, 82], [597, 896], [922], [215], [851], [984, 757], [78, 625], [746], [835, 871], [905, 762], [281, 236], [5], [877, 739], [845], [538], [471], [954, 712], [470], [527, 674], [924, 707], [878, 363], [912, 811], [525], [977, 947], [228, 466], [483, 65], [96], [968], [479], [630], [648], [463], [537, 952], [460], [130], [757], [529], [399], [381], [598], [284], [793, 367], [198], [814], [514], [96], [729], [311, 322], [79], [124, 997], [975, 488], [663], [716, 529], [225], [491], [391], [992, 187], [916], [329, 688], [335], [632, 627], [736], [387, 376], [292], [861, 527], [407], [778, 403], [165], [873, 897], [400], [750, 910], [350], [66], [255], [845, 653], [171], [342, 401], [942], [52, 485], [930], [40, 944], [308], [494, 763], [892, 62], [866], [827, 934], [296, 705], [999], [541], [164, 950], [580], [50, 209], [113, 242], [847], [131, 313], [404], [837], [550], [83], [993], [276, 535], [723, 652], [606, 168], [2, 593], [416, 504], [899], [580], [488], [204], [235], [112, 458], [93], [704, 872], [337], [880], [349], [723, 40], [85], [753], [911], [924], [87, 826], [315, 919], [872, 118], [494, 109], [466, 933], [428, 643], [918, 949], [939], [883], [648, 111], [464], [227, 943], [305], [289], [902], [269, 974], [834], [817], [120], [407, 469], [710, 997], [498], [99], [842, 477], [469], [168], [647], [848, 29], [272], [819], [176, 747], [274], [417], [718, 265], [964], [291, 593], [745], [741, 762], [225], [735, 34], [2, 943], [465], [841], [23], [601, 616], [298, 889], [460], [275], [491], [298, 453], [828], [726, 790], [702, 445], [695], [750, 681], [637], [719], [152], [780, 964], [233, 426], [456]])\n",
      "533775\n"
     ]
    }
   ],
   "source": [
    "import math as m, re\n",
    "\n",
    "day3 = get_data(day = 3, year = 2023).splitlines()\n",
    "chars = {(r, c): [] for r in range(len(day3)) for c in range(len(day3[0]))\n",
    "                    if day3[r][c] not in '01234566789.'}\n",
    "\n",
    "for r, row in enumerate(day3):\n",
    "    for n in re.finditer(r'\\d+', row):\n",
    "        edge = {(r, c) for r in (r-1, r, r+1)\n",
    "                       for c in range(n.start()-1, n.end()+1)}\n",
    "\n",
    "        for o in edge & chars.keys():\n",
    "            chars[o].append(int(n.group()))\n",
    "\n",
    "print(chars.values())\n",
    "\n",
    "print(sum(sum(p) for p in chars.values()))\n",
    "\n",
    "# part1 = sum(sum(p) for p in chars.values())\n",
    "\n",
    "# submit(part1, day = 3, year = 2023)"
   ]
  },
  {
   "cell_type": "code",
   "execution_count": null,
   "metadata": {},
   "outputs": [],
   "source": [
    "# Didn't work\n",
    "from aocd import get_data, submit\n",
    "import re\n",
    "\n",
    "def check_left_right(line, index, direction):\n",
    "    if direction == \"right\":\n",
    "        return re.findall(r'\\d+', line[index:])[0]\n",
    "    elif direction == \"left\":\n",
    "        reversed_line = line[::-1]\n",
    "        return re.findall(r'\\d+', reversed_line[len(reversed_line) - index:])[0][::-1]\n",
    "\n",
    "def check_up_down(line, i):\n",
    "    nums = []\n",
    "    if line[i] not in digits:\n",
    "        if line[i + 1] in digits:\n",
    "            nums.append(check_left_right(line, i, \"right\"))\n",
    "        elif line[i - 1] in digits:\n",
    "            nums.append(check_left_right(line, i, \"left\"))\n",
    "    elif line[i] in digits:\n",
    "        if line[i - 1] in digits and line[i + 1] in digits:\n",
    "            revline = line[::-1]\n",
    "            midstart = re.findall(r'\\d+', revline[len(revline) - i - 1:])[0][::-1]\n",
    "            midend = re.findall(r'\\d+', line[i + 1:])[0]\n",
    "            nums.append(str(midstart) + str(midend)) \n",
    "        if line[i - 1] not in digits and line[i + 1] in digits:\n",
    "            nums.append(re.findall(r'\\d+', line[i - 1:])[0])\n",
    "        if line[i - 1] in digits and line[i + 1] not in digits:\n",
    "            revline = line[::-1]\n",
    "            nums.append(re.findall(r'\\d+', revline[len(revline) - i - 1:])[0][::-1])\n",
    "    return nums\n",
    "        \n",
    "def get_adjacent_numbers(data, idx, i):\n",
    "    nums = []\n",
    "    if i + 1 < len(data[idx]) and data[idx][i + 1] in digits:\n",
    "        nums.append(check_left_right(data[idx], i, \"right\"))\n",
    "    if i > 0 and data[idx][i - 1] in digits:\n",
    "        nums.append(check_left_right(data[idx], i, \"left\"))\n",
    "    if idx > 0:\n",
    "        above_line = data[idx - 1]\n",
    "        nums += check_up_down(above_line, i)\n",
    "    if idx < len(data):\n",
    "        below_line = data[idx + 1]\n",
    "        nums += check_up_down(below_line, i)\n",
    "\n",
    "    return nums\n",
    "\n",
    "day3 = get_data(day=3, year=\"2023\").splitlines()\n",
    "# with open(\"day4.txt\", \"r\") as f: day3 = f.read().splitlines()\n",
    "\n",
    "digits = set(\"1234567890\")\n",
    "symbols = set(\"\".join(day3)) - digits - {\".\"}\n",
    "\n",
    "psum = 0\n",
    "for idx, line in enumerate(day3):\n",
    "    print(line)\n",
    "    for i, x in enumerate(line):\n",
    "        if x in symbols:\n",
    "            nums = get_adjacent_numbers(day3, idx, i)\n",
    "            psum += sum(int(num) for num in nums if num.isdigit())\n",
    "            print(\"Numbers around symbol '{}': {}\".format(x, nums))\n",
    "\n",
    "print(psum)\n",
    "\n",
    "# submit(psum, day=3, part=1, year=2023)"
   ]
  },
  {
   "cell_type": "markdown",
   "metadata": {},
   "source": [
    "#### Part 2"
   ]
  },
  {
   "cell_type": "code",
   "execution_count": null,
   "metadata": {},
   "outputs": [],
   "source": [
    "# print(sum(m.prod(p) for p in chars.values() if len(p)==2))\n",
    "\n",
    "part2 = sum(m.prod(p) for p in chars.values() if len(p)==2)\n",
    "\n",
    "submit(part2, day = 3, year = 2023)"
   ]
  },
  {
   "cell_type": "markdown",
   "metadata": {},
   "source": [
    "### Day 4"
   ]
  },
  {
   "cell_type": "markdown",
   "metadata": {},
   "source": [
    "#### Part 1"
   ]
  },
  {
   "cell_type": "code",
   "execution_count": 413,
   "metadata": {},
   "outputs": [
    {
     "name": "stdout",
     "output_type": "stream",
     "text": [
      "23028\n"
     ]
    }
   ],
   "source": [
    "from aocd import get_data\n",
    "import re\n",
    "\n",
    "day4 = get_data(day = 4, year = 2023).splitlines()\n",
    "\n",
    "split = [re.split(r':|\\|', x) for x in day4]\n",
    "nums = [[re.findall(r'\\d+', a[1]), re.findall(r'\\d+', a[2])] for a in split]\n",
    "wins = [[x for x in a[1] if x in a[0]] for a in nums]\n",
    "points = [2**max(0, len(w) - 1) if len(w) > 0 else len(w) for w in wins]\n",
    "total = sum(points)\n",
    "\n",
    "print(total)\n",
    "\n",
    "# submit(total, day = 4, year = 2023)"
   ]
  },
  {
   "cell_type": "markdown",
   "metadata": {},
   "source": [
    "#### Part 2"
   ]
  },
  {
   "cell_type": "code",
   "execution_count": 388,
   "metadata": {},
   "outputs": [
    {
     "name": "stdout",
     "output_type": "stream",
     "text": [
      "{1: [[], 1], 2: [[3, 4, 5, 6, 7, 8, 9, 10, 11, 12], 1], 3: [[4, 5, 6, 7, 8, 9, 10, 11, 12, 13], 2], 4: [[5, 6, 7, 8, 9, 10, 11, 12, 13], 4], 5: [[], 8], 6: [[7, 8, 9, 10, 11, 12, 13, 14], 8], 7: [[8, 9, 10, 11, 12, 13, 14], 16], 8: [[9, 10, 11], 32], 9: [[10], 64], 10: [[11, 12, 13, 14, 15, 16, 17, 18, 19], 128], 11: [[], 192], 12: [[13, 14], 160], 13: [[], 319], 14: [[], 313], 15: [[16, 17, 18, 19], 129], 16: [[17], 258], 17: [[18], 516], 18: [[19, 20, 21], 774], 19: [[], 1032], 20: [[], 775], 21: [[], 775], 22: [[23, 24, 25, 26, 27, 28, 29, 30, 31, 32], 1], 23: [[24], 2], 24: [[25, 26, 27], 4], 25: [[], 6], 26: [[27, 28, 29, 30, 31, 32, 33], 6], 27: [[28, 29, 30, 31, 32, 33], 12], 28: [[29, 30, 31, 32, 33, 34, 35, 36], 20], 29: [[30, 31, 32, 33, 34, 35, 36], 40], 30: [[31, 32, 33], 80], 31: [[32, 33, 34], 160], 32: [[33, 34, 35, 36], 320], 33: [[34], 639], 34: [[], 1180], 35: [[36], 381], 36: [[], 762], 37: [[38, 39, 40, 41, 42, 43, 44, 45, 46], 1], 38: [[39], 2], 39: [[40, 41, 42, 43, 44, 45, 46, 47, 48, 49], 4], 40: [[41, 42, 43], 6], 41: [[42, 43, 44, 45, 46], 12], 42: [[43, 44], 24], 43: [[44, 45, 46, 47, 48, 49], 48], 44: [[45, 46], 90], 45: [[46], 156], 46: [[], 312], 47: [[48, 49, 50, 51], 53], 48: [[49, 50], 106], 49: [[50, 51], 212], 50: [[51], 372], 51: [[], 638], 52: [[53, 54, 55, 56, 57, 58, 59, 60, 61, 62], 1], 53: [[54, 55, 56, 57, 58, 59, 60], 2], 54: [[55], 4], 55: [[56, 57, 58, 59, 60, 61, 62, 63, 64, 65], 8], 56: [[57, 58, 59, 60, 61, 62, 63, 64, 65, 66], 12], 57: [[58, 59, 60, 61, 62, 63, 64, 65, 66, 67], 24], 58: [[59, 60, 61, 62, 63], 48], 59: [[], 96], 60: [[61, 62, 63, 64, 65], 96], 61: [[62, 63, 64, 65, 66, 67, 68, 69], 190], 62: [[63, 64], 380], 63: [[64, 65, 66, 67, 68], 759], 64: [[65, 66, 67, 68, 69, 70, 71, 72, 73, 74], 1470], 65: [[66], 2560], 66: [[67, 68], 5016], 67: [[68, 69, 70, 71, 72], 7460], 68: [[69, 70, 71, 72, 73], 14896], 69: [[70, 71, 72, 73, 74, 75], 24017], 70: [[71, 72, 73, 74, 75], 47844], 71: [[], 95688], 72: [[], 95688], 73: [[74], 88228], 74: [[], 161560], 75: [[], 71862], 76: [[77, 78, 79, 80, 81, 82, 83, 84, 85, 86], 1], 77: [[78, 79, 80, 81, 82, 83, 84, 85, 86, 87], 2], 78: [[79], 4], 79: [[80, 81, 82, 83, 84, 85, 86, 87, 88, 89], 8], 80: [[81, 82, 83], 12], 81: [[82, 83, 84, 85, 86, 87, 88, 89, 90, 91], 24], 82: [[], 48], 83: [[84, 85, 86, 87, 88, 89, 90, 91, 92, 93], 48], 84: [[85, 86, 87, 88], 84], 85: [[86, 87, 88, 89, 90, 91, 92, 93, 94, 95], 168], 86: [[87, 88, 89], 336], 87: [[88], 671], 88: [[89, 90, 91, 92, 93, 94, 95], 1340], 89: [[90, 91, 92, 93, 94, 95], 1925], 90: [[91, 92, 93, 94, 95, 96, 97, 98, 99, 100], 3506], 91: [[92], 7012], 92: [[93, 94, 95, 96, 97, 98, 99, 100], 14000], 93: [[94, 95, 96, 97], 20988], 94: [[], 41928], 95: [[96, 97, 98], 41928], 96: [[97, 98, 99], 80423], 97: [[98, 99, 100], 160846], 98: [[], 300704], 99: [[], 258776], 100: [[], 178353], 101: [[102, 103, 104, 105, 106, 107], 1], 102: [[103, 104, 105, 106, 107, 108, 109, 110, 111, 112], 2], 103: [[104, 105, 106], 4], 104: [[105, 106, 107, 108, 109, 110, 111, 112, 113, 114], 8], 105: [[106], 16], 106: [[], 32], 107: [[108, 109, 110, 111, 112, 113, 114, 115, 116, 117], 12], 108: [[109, 110, 111, 112, 113, 114, 115], 23], 109: [[110, 111, 112, 113, 114, 115, 116, 117], 46], 110: [[111], 92], 111: [[112, 113, 114], 184], 112: [[113, 114], 276], 113: [[114, 115], 550], 114: [[115, 116], 1100], 115: [[116, 117], 1732], 116: [[117], 2891], 117: [[], 4682], 118: [[119, 120, 121, 122, 123, 124], 1], 119: [[120, 121, 122, 123, 124, 125, 126, 127, 128, 129], 2], 120: [[121], 4], 121: [[122, 123, 124, 125, 126, 127, 128], 8], 122: [[123, 124, 125, 126], 12], 123: [[124, 125, 126, 127, 128, 129, 130, 131, 132, 133], 24], 124: [[125, 126], 48], 125: [[126, 127, 128, 129, 130], 95], 126: [[127, 128, 129], 190], 127: [[128, 129, 130, 131, 132, 133, 134, 135], 320], 128: [[], 640], 129: [[130, 131, 132, 133, 134, 135, 136], 632], 130: [[], 1072], 131: [[132, 133], 977], 132: [[133, 134, 135], 1954], 133: [[134], 3908], 134: [[135, 136], 6815], 135: [[], 9722], 136: [[], 7448], 137: [[138, 139, 140, 141, 142, 143, 144, 145, 146, 147], 1], 138: [[139, 140, 141, 142], 2], 139: [[140, 141, 142, 143, 144, 145, 146], 4], 140: [[141, 142, 143, 144], 8], 141: [[142, 143, 144, 145, 146, 147, 148, 149], 16], 142: [[143, 144, 145, 146, 147, 148, 149, 150, 151], 32], 143: [[144, 145], 62], 144: [[145, 146, 147, 148, 149, 150, 151, 152, 153, 154], 124], 145: [[146, 147, 148, 149, 150, 151, 152, 153, 154, 155], 240], 146: [[], 418], 147: [[148, 149, 150, 151, 152, 153, 154], 414], 148: [[], 827], 149: [[150, 151, 152], 827], 150: [[151, 152, 153, 154, 155], 1638], 151: [[152, 153, 154, 155, 156, 157, 158], 3276], 152: [[153, 154, 155, 156, 157, 158], 6520], 153: [[154, 155, 156, 157, 158, 159], 12213], 154: [[155, 156, 157, 158, 159], 24426], 155: [[156, 157, 158, 159], 48314], 156: [[157, 158, 159], 94750], 157: [[], 189500], 158: [[], 189500], 159: [[], 179704], 160: [[161, 162, 163, 164, 165, 166, 167], 1], 161: [[162, 163, 164, 165, 166, 167, 168, 169, 170, 171], 2], 162: [[163, 164, 165, 166, 167, 168, 169, 170, 171, 172], 4], 163: [[164, 165, 166, 167, 168, 169, 170, 171, 172, 173], 8], 164: [[165, 166, 167, 168, 169, 170, 171, 172, 173, 174], 16], 165: [[166, 167, 168, 169, 170, 171, 172, 173, 174, 175], 32], 166: [[167, 168, 169, 170, 171], 64], 167: [[168, 169, 170, 171, 172, 173, 174, 175, 176, 177], 128], 168: [[169, 170, 171], 255], 169: [[170, 171, 172, 173], 510], 170: [[171, 172, 173, 174, 175, 176, 177, 178, 179, 180], 1020], 171: [[172, 173, 174, 175, 176, 177, 178, 179], 2040], 172: [[173, 174, 175, 176], 3759], 173: [[174, 175, 176, 177, 178, 179, 180, 181, 182, 183], 7514], 174: [[175, 176, 177, 178, 179, 180, 181, 182, 183], 14510], 175: [[176, 177, 178, 179, 180, 181, 182, 183, 184], 29004], 176: [[177, 178, 179, 180], 57976], 177: [[178], 112193], 178: [[179, 180, 181], 224258], 179: [[180, 181, 182], 336323], 180: [[], 670606], 181: [[182], 611610], 182: [[183, 184], 998962], 183: [[184], 1049991], 184: [[], 2077958], 185: [[186, 187, 188, 189, 190, 191, 192, 193, 194, 195], 1], 186: [[187, 188, 189, 190, 191, 192, 193, 194], 2], 187: [[188, 189, 190, 191, 192, 193, 194, 195, 196, 197], 4], 188: [[189, 190, 191, 192, 193, 194, 195, 196, 197, 198], 8], 189: [[190, 191, 192, 193], 16], 190: [[191], 32], 191: [[192, 193, 194, 195, 196], 64], 192: [[193, 194, 195, 196, 197, 198, 199, 200, 201, 202], 96], 193: [[194, 195, 196, 197, 198, 199, 200, 201], 192], 194: [[195], 368], 195: [[196, 197, 198, 199], 734], 196: [[197, 198, 199, 200, 201, 202, 203, 204, 205], 1099], 197: [[198, 199, 200], 2134], 198: [[199, 200, 201, 202], 4264], 199: [[200, 201, 202, 203, 204, 205], 8520], 200: [[201, 202, 203, 204], 16306], 201: [[], 30478], 202: [[203, 204], 30286], 203: [[204, 205, 206], 56212], 204: [[205], 112424], 205: [[], 178256], 206: [[], 56213]}\n",
      "9236992\n"
     ]
    }
   ],
   "source": [
    "import re\n",
    "\n",
    "day4 = get_data(day = 4, year = 2023).splitlines()\n",
    "\n",
    "split = [re.split(r':|\\|', x) for x in day4]\n",
    "nums = [[re.findall(r'\\d+', a[1]), re.findall(r'\\d+', a[2])] for a in split]\n",
    "wins = [[x for x in a[1] if x in a[0]] for a in nums]\n",
    "cards = {day4.index(c) + 1: [list(range(day4.index(c) + 2, day4.index(c) + 2 + len(w))), 1] for c, w in zip(day4, wins)}\n",
    "\n",
    "sum = 0\n",
    "\n",
    "for i in cards:\n",
    "    for n in cards[i][0]:\n",
    "        cards[n][1] += 1 * cards[i][1]\n",
    "    sum += cards[i][1]\n",
    "\n",
    "# submit(sum, day = 4, year = 2023, part = 2)"
   ]
  },
  {
   "cell_type": "markdown",
   "metadata": {},
   "source": [
    "### Day 5"
   ]
  },
  {
   "cell_type": "markdown",
   "metadata": {},
   "source": [
    "#### Part 1"
   ]
  },
  {
   "cell_type": "code",
   "execution_count": 17,
   "metadata": {},
   "outputs": [
    {
     "name": "stdout",
     "output_type": "stream",
     "text": [
      "278755257\n"
     ]
    }
   ],
   "source": [
    "import re\n",
    "from aocd import get_data, submit\n",
    "\n",
    "day5 = get_data(day = 5, year = 2023)\n",
    "\n",
    "seeds = [eval(x) for x in re.findall(r'\\d+', day5.splitlines()[0])]\n",
    "sections = [x.splitlines() for x in day5.split(\"\\n\\n\")]\n",
    "\n",
    "loc_n = []\n",
    "\n",
    "for seed in seeds:\n",
    "    map_val = [seed]\n",
    "    for sec in sections[1:]:\n",
    "        mapped = False\n",
    "        for i, line in enumerate(sec[1:]):\n",
    "            map = [eval(x) for x in re.findall(r'\\d+', line)]\n",
    "            range1 = range(map[1], map[1] + map[2])\n",
    "            if map_val[-1] in range1:\n",
    "                mapped = True\n",
    "                map_val.append(range(map[0], map[0] + map[2])[range1.index(map_val[-1])])\n",
    "                break\n",
    "        if mapped is False:\n",
    "            map_val.append(map_val[-1])\n",
    "    loc_n.append(map_val[-1])\n",
    "\n",
    "submit(min(loc_n), day = 5, year = 2023, part = 1)"
   ]
  },
  {
   "cell_type": "markdown",
   "metadata": {},
   "source": [
    "#### Part 2"
   ]
  },
  {
   "cell_type": "code",
   "execution_count": 19,
   "metadata": {},
   "outputs": [
    {
     "ename": "KeyboardInterrupt",
     "evalue": "",
     "output_type": "error",
     "traceback": [
      "\u001b[1;31m---------------------------------------------------------------------------\u001b[0m",
      "\u001b[1;31mKeyboardInterrupt\u001b[0m                         Traceback (most recent call last)",
      "\u001b[1;32mc:\\Users\\kevin.lee\\Advent-of-Code\\work.ipynb Cell 34\u001b[0m line \u001b[0;36m1\n\u001b[0;32m     <a href='vscode-notebook-cell:/c%3A/Users/kevin.lee/Advent-of-Code/work.ipynb#Y100sZmlsZQ%3D%3D?line=15'>16</a>\u001b[0m mapped \u001b[39m=\u001b[39m \u001b[39mFalse\u001b[39;00m\n\u001b[0;32m     <a href='vscode-notebook-cell:/c%3A/Users/kevin.lee/Advent-of-Code/work.ipynb#Y100sZmlsZQ%3D%3D?line=16'>17</a>\u001b[0m \u001b[39mfor\u001b[39;00m i, line \u001b[39min\u001b[39;00m \u001b[39menumerate\u001b[39m(sec[\u001b[39m1\u001b[39m:]):\n\u001b[1;32m---> <a href='vscode-notebook-cell:/c%3A/Users/kevin.lee/Advent-of-Code/work.ipynb#Y100sZmlsZQ%3D%3D?line=17'>18</a>\u001b[0m     \u001b[39mmap\u001b[39m \u001b[39m=\u001b[39m [\u001b[39meval\u001b[39;49m(x) \u001b[39mfor\u001b[39;49;00m x \u001b[39min\u001b[39;49;00m re\u001b[39m.\u001b[39;49mfindall(\u001b[39mr\u001b[39;49m\u001b[39m'\u001b[39;49m\u001b[39m\\\u001b[39;49m\u001b[39md+\u001b[39;49m\u001b[39m'\u001b[39;49m, line)]\n\u001b[0;32m     <a href='vscode-notebook-cell:/c%3A/Users/kevin.lee/Advent-of-Code/work.ipynb#Y100sZmlsZQ%3D%3D?line=18'>19</a>\u001b[0m     range1 \u001b[39m=\u001b[39m \u001b[39mrange\u001b[39m(\u001b[39mmap\u001b[39m[\u001b[39m1\u001b[39m], \u001b[39mmap\u001b[39m[\u001b[39m1\u001b[39m] \u001b[39m+\u001b[39m \u001b[39mmap\u001b[39m[\u001b[39m2\u001b[39m])\n\u001b[0;32m     <a href='vscode-notebook-cell:/c%3A/Users/kevin.lee/Advent-of-Code/work.ipynb#Y100sZmlsZQ%3D%3D?line=19'>20</a>\u001b[0m     \u001b[39mif\u001b[39;00m map_val[\u001b[39m-\u001b[39m\u001b[39m1\u001b[39m] \u001b[39min\u001b[39;00m range1:\n",
      "\u001b[1;32mc:\\Users\\kevin.lee\\Advent-of-Code\\work.ipynb Cell 34\u001b[0m line \u001b[0;36m1\n\u001b[0;32m     <a href='vscode-notebook-cell:/c%3A/Users/kevin.lee/Advent-of-Code/work.ipynb#Y100sZmlsZQ%3D%3D?line=15'>16</a>\u001b[0m mapped \u001b[39m=\u001b[39m \u001b[39mFalse\u001b[39;00m\n\u001b[0;32m     <a href='vscode-notebook-cell:/c%3A/Users/kevin.lee/Advent-of-Code/work.ipynb#Y100sZmlsZQ%3D%3D?line=16'>17</a>\u001b[0m \u001b[39mfor\u001b[39;00m i, line \u001b[39min\u001b[39;00m \u001b[39menumerate\u001b[39m(sec[\u001b[39m1\u001b[39m:]):\n\u001b[1;32m---> <a href='vscode-notebook-cell:/c%3A/Users/kevin.lee/Advent-of-Code/work.ipynb#Y100sZmlsZQ%3D%3D?line=17'>18</a>\u001b[0m     \u001b[39mmap\u001b[39m \u001b[39m=\u001b[39m [\u001b[39meval\u001b[39m(x) \u001b[39mfor\u001b[39;00m x \u001b[39min\u001b[39;00m re\u001b[39m.\u001b[39mfindall(\u001b[39mr\u001b[39m\u001b[39m'\u001b[39m\u001b[39m\\\u001b[39m\u001b[39md+\u001b[39m\u001b[39m'\u001b[39m, line)]\n\u001b[0;32m     <a href='vscode-notebook-cell:/c%3A/Users/kevin.lee/Advent-of-Code/work.ipynb#Y100sZmlsZQ%3D%3D?line=18'>19</a>\u001b[0m     range1 \u001b[39m=\u001b[39m \u001b[39mrange\u001b[39m(\u001b[39mmap\u001b[39m[\u001b[39m1\u001b[39m], \u001b[39mmap\u001b[39m[\u001b[39m1\u001b[39m] \u001b[39m+\u001b[39m \u001b[39mmap\u001b[39m[\u001b[39m2\u001b[39m])\n\u001b[0;32m     <a href='vscode-notebook-cell:/c%3A/Users/kevin.lee/Advent-of-Code/work.ipynb#Y100sZmlsZQ%3D%3D?line=19'>20</a>\u001b[0m     \u001b[39mif\u001b[39;00m map_val[\u001b[39m-\u001b[39m\u001b[39m1\u001b[39m] \u001b[39min\u001b[39;00m range1:\n",
      "\u001b[1;31mKeyboardInterrupt\u001b[0m: "
     ]
    }
   ],
   "source": [
    "import re\n",
    "from aocd import get_data\n",
    "\n",
    "day5 = get_data(day = 5, year = 2023)\n",
    "\n",
    "seeds = [eval(x) for x in re.findall(r'\\d+', day5.splitlines()[0])]\n",
    "seed_ranges = [range(a, a + b) for a, b in zip(seeds[::2], seeds[1::2])]\n",
    "sections = [x.splitlines() for x in day5.split(\"\\n\\n\")]\n",
    "\n",
    "loc_n = []\n",
    "\n",
    "for r in seed_ranges:\n",
    "    for seed in r:\n",
    "        map_val = [seed]\n",
    "        for sec in sections[1:]:\n",
    "            mapped = False\n",
    "            for i, line in enumerate(sec[1:]):\n",
    "                map = [eval(x) for x in re.findall(r'\\d+', line)]\n",
    "                range1 = range(map[1], map[1] + map[2])\n",
    "                if map_val[-1] in range1:\n",
    "                    mapped = True\n",
    "                    map_val.append(range(map[0], map[0] + map[2])[range1.index(map_val[-1])])\n",
    "                    break\n",
    "            if mapped is False:\n",
    "                map_val.append(map_val[-1])\n",
    "        loc_n.append(map_val[-1])\n",
    "\n",
    "print(min(loc_n))\n",
    "\n",
    "# submit(min(loc_n), day = 5, year = 2023, part = 1)"
   ]
  }
 ],
 "metadata": {
  "kernelspec": {
   "display_name": "Python 3",
   "language": "python",
   "name": "python3"
  },
  "language_info": {
   "codemirror_mode": {
    "name": "ipython",
    "version": 3
   },
   "file_extension": ".py",
   "mimetype": "text/x-python",
   "name": "python",
   "nbconvert_exporter": "python",
   "pygments_lexer": "ipython3",
   "version": "3.11.4"
  }
 },
 "nbformat": 4,
 "nbformat_minor": 2
}
