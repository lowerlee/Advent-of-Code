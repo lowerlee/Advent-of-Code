{
 "cells": [
  {
   "cell_type": "code",
   "execution_count": 5,
   "metadata": {},
   "outputs": [
    {
     "name": "stderr",
     "output_type": "stream",
     "text": [
      "Python was not found; run without arguments to install from the Microsoft Store, or disable this shortcut from Settings > Manage App Execution Aliases.\n"
     ]
    }
   ],
   "source": [
    "# !python -m venv venv"
   ]
  },
  {
   "cell_type": "code",
   "execution_count": 5,
   "metadata": {},
   "outputs": [
    {
     "name": "stdout",
     "output_type": "stream",
     "text": [
      "Collecting python-dotenv\n",
      "  Using cached python_dotenv-1.0.0-py3-none-any.whl (19 kB)\n",
      "Installing collected packages: python-dotenv\n",
      "Successfully installed python-dotenv-1.0.0\n"
     ]
    },
    {
     "name": "stderr",
     "output_type": "stream",
     "text": [
      "\n",
      "[notice] A new release of pip is available: 23.1.2 -> 23.3.1\n",
      "[notice] To update, run: python.exe -m pip install --upgrade pip\n"
     ]
    }
   ],
   "source": [
    "!pip install advent-of-code-data\n",
    "!pip install advent-of-code-data[nb]\n",
    "!pip install python-dotenv"
   ]
  },
  {
   "cell_type": "code",
   "execution_count": 9,
   "metadata": {},
   "outputs": [],
   "source": [
    "import os\n",
    "from dotenv import load_dotenv\n",
    "\n",
    "load_dotenv()\n",
    "MY_ENV_VAR = os.getenv('AOC_SESSION')"
   ]
  },
  {
   "cell_type": "markdown",
   "metadata": {},
   "source": [
    "### Day 1"
   ]
  },
  {
   "cell_type": "markdown",
   "metadata": {},
   "source": [
    "#### Part 1"
   ]
  },
  {
   "cell_type": "code",
   "execution_count": 2,
   "metadata": {},
   "outputs": [
    {
     "name": "stdout",
     "output_type": "stream",
     "text": [
      "55834\n"
     ]
    }
   ],
   "source": [
    "from aocd import get_data\n",
    "import re\n",
    "\n",
    "day1 = get_data(day = 1, year = 2023).splitlines()\n",
    "results = 0\n",
    "\n",
    "for item in day1:\n",
    "    y = re.findall(r\"\\d\", item)\n",
    "\n",
    "    if len(y) > 1:\n",
    "        results += int(y[0] + y[-1])\n",
    "    else:\n",
    "        results += int(y[0] + y[0])\n",
    "\n",
    "print(results)"
   ]
  },
  {
   "cell_type": "code",
   "execution_count": 34,
   "metadata": {},
   "outputs": [
    {
     "data": {
      "text/plain": [
       "55834"
      ]
     },
     "execution_count": 34,
     "metadata": {},
     "output_type": "execute_result"
    }
   ],
   "source": [
    "from aocd import get_data\n",
    "import re\n",
    "\n",
    "day1 = get_data(day = 1, year = 2023).splitlines()\n",
    "total = 0\n",
    "\n",
    "for line in day1:\n",
    "    a, *_, b = re.findall(r\"\\d\", 2 * line)\n",
    "    total += int(a + b)\n",
    "\n",
    "total"
   ]
  },
  {
   "cell_type": "markdown",
   "metadata": {},
   "source": [
    "#### Part 2"
   ]
  },
  {
   "cell_type": "code",
   "execution_count": 4,
   "metadata": {},
   "outputs": [
    {
     "name": "stdout",
     "output_type": "stream",
     "text": [
      "53221\n"
     ]
    }
   ],
   "source": [
    "from aocd import get_data\n",
    "import re\n",
    "\n",
    "day1 = get_data(day = 1, year = 2023).splitlines()\n",
    "\n",
    "results = []\n",
    "\n",
    "nums = [\"one\", \"two\", \"three\", \"four\", \"five\", \"six\", \"seven\", \"eight\", \"nine\"]\n",
    "rnums = [num[::-1] for num in nums]\n",
    "\n",
    "nums_dc = {word: i for i, word in enumerate(nums, start = 1)}\n",
    "rnums_dc = {word[::-1]: i for i, word in enumerate(nums, start = 1)}\n",
    "\n",
    "pattern = r'([0-9])|' + '(' + '|'.join(nums) + ')'\n",
    "rpattern = r'([0-9])|' + '(' + '|'.join(rnums) + ')'\n",
    "\n",
    "for item in day1:\n",
    "    ls = []\n",
    "\n",
    "    y_ls = re.findall(pattern, item)\n",
    "    y = tuple(filter(None, y_ls[0]))[0]\n",
    "\n",
    "    ry_ls = re.findall(rpattern, item[::-1])\n",
    "    ry = tuple(filter(None, ry_ls[0]))[0]\n",
    "    \n",
    "    if len(y_ls) and len(ry_ls) > 1:\n",
    "        x = int([y if y.isdigit() else str(nums_dc[y])][0] + [ry if ry.isdigit() else str(rnums_dc[ry])][0])\n",
    "    else:\n",
    "        x = int([y if y.isdigit() else str(nums_dc[y])][0] + [y if y.isdigit() else str(nums_dc[y])][0])\n",
    "\n",
    "    results.append(x)\n",
    "\n",
    "final = sum(results)\n",
    "\n",
    "print(final)"
   ]
  },
  {
   "cell_type": "code",
   "execution_count": 29,
   "metadata": {},
   "outputs": [
    {
     "name": "stdout",
     "output_type": "stream",
     "text": [
      "['2', '9', 'seven', '2', '9', 'seven']\n",
      "27\n",
      "['9', 'six', '9', 'six']\n",
      "96\n",
      "['five', '7', '3', 'two', 'five', '7', '3', 'two']\n",
      "52\n"
     ]
    },
    {
     "data": {
      "text/plain": [
       "175"
      ]
     },
     "execution_count": 29,
     "metadata": {},
     "output_type": "execute_result"
    }
   ],
   "source": [
    "# incorrect\n",
    "from aocd import get_data\n",
    "from unicodedata import name\n",
    "import re\n",
    "\n",
    "day1 = get_data(day = 1, year = 2023).splitlines()\n",
    "\n",
    "digits = {k: v for v in \"123456789\" for k in [v, name(v).removeprefix(\"DIGIT \").lower()]}\n",
    "\n",
    "total = 0\n",
    "for line in day1[:3]:\n",
    "    # a, *_, b = re.findall(rf\"(?:{'|'.join(digits)})\", 2 * line)\n",
    "    what = re.findall(rf\"(?:{'|'.join(digits)})\", 2 * line)\n",
    "    print(what)\n",
    "    a, *_, b = what\n",
    "    print(digits[a] + digits[b])\n",
    "    total += int(digits[a] + digits[b])\n",
    "\n",
    "total"
   ]
  },
  {
   "cell_type": "markdown",
   "metadata": {},
   "source": [
    "### Day 2"
   ]
  },
  {
   "cell_type": "markdown",
   "metadata": {},
   "source": [
    "#### Part 1"
   ]
  },
  {
   "cell_type": "code",
   "execution_count": 209,
   "metadata": {},
   "outputs": [
    {
     "name": "stdout",
     "output_type": "stream",
     "text": [
      "[1, 4, 7, 13, 14, 15, 16, 19, 20, 21, 22, 25, 26, 28, 30, 31, 34, 35, 36, 37, 39, 41, 46, 47, 48, 49, 50, 51, 53, 54, 56, 58, 59, 60, 63, 64, 66, 71, 75, 76, 77, 84, 87, 90, 91, 95, 96, 98]\n",
      "2278\n",
      "\u001b[32mThat's the right answer!  You are one gold star closer to restoring snow operations. [Continue to Part Two]\u001b[0m\n"
     ]
    },
    {
     "data": {
      "text/plain": [
       "<urllib3.response.HTTPResponse at 0x262071d28c0>"
      ]
     },
     "execution_count": 209,
     "metadata": {},
     "output_type": "execute_result"
    }
   ],
   "source": [
    "from aocd import get_data, submit\n",
    "\n",
    "def sortDict(dict):\n",
    "    a = list(dict.keys())\n",
    "    a.sort()\n",
    "    x = {i: dict[i] for i in a}\n",
    "    return(x)\n",
    "\n",
    "day2 = get_data(day = 2, year = 2023).splitlines()\n",
    "\n",
    "pgame = sortDict({\"red\": 12, \"green\": 13, \"blue\": 14})\n",
    "\n",
    "ls = []\n",
    "gsum = 0\n",
    "\n",
    "for i, games in enumerate(day2):\n",
    "    x = re.split(\"[:;]\", games)\n",
    "    y = list(map(lambda y: re.split(\"[,]\", y), x[1:]))\n",
    "    y = [re.findall(r\"\\d+|\\w+\", i) for ls in y for i in ls]\n",
    "    dict = [{sublist[1]: sublist[0]} for sublist in y]\n",
    "    highest_values = {}\n",
    "    for d in dict:\n",
    "        for color, value in d.items():\n",
    "            if color not in highest_values or int(value) > int(highest_values[color]):\n",
    "                highest_values[color] = int(value)\n",
    "    res_dict = sortDict({color: value for color, value in highest_values.items()})\n",
    "    ares = list((res_dict.get(k) <= v for k, v in pgame.items()))\n",
    "    bres = all(ares)\n",
    "    if bres:\n",
    "        ls.append(i+1)\n",
    "        gsum += i+1\n",
    "\n",
    "submit(gsum, part = 1, day = 2, year = 2023)"
   ]
  }
 ],
 "metadata": {
  "kernelspec": {
   "display_name": "Python 3",
   "language": "python",
   "name": "python3"
  },
  "language_info": {
   "codemirror_mode": {
    "name": "ipython",
    "version": 3
   },
   "file_extension": ".py",
   "mimetype": "text/x-python",
   "name": "python",
   "nbconvert_exporter": "python",
   "pygments_lexer": "ipython3",
   "version": "3.11.4"
  }
 },
 "nbformat": 4,
 "nbformat_minor": 2
}
